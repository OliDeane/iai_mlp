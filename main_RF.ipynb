{
 "metadata": {
  "language_info": {
   "codemirror_mode": {
    "name": "ipython",
    "version": 3
   },
   "file_extension": ".py",
   "mimetype": "text/x-python",
   "name": "python",
   "nbconvert_exporter": "python",
   "pygments_lexer": "ipython3",
   "version": "3.8.3-final"
  },
  "orig_nbformat": 2,
  "kernelspec": {
   "name": "mlp_venv",
   "display_name": "mlp_venv",
   "language": "python"
  }
 },
 "nbformat": 4,
 "nbformat_minor": 2,
 "cells": [
  {
   "cell_type": "code",
   "execution_count": 1,
   "metadata": {},
   "outputs": [],
   "source": [
    "import pandas as pd\n",
    "import numpy as np\n",
    "from concat_stations import concat_files\n",
    "import data_prep\n",
    "from rf_optimize import evaluate\n",
    "from scipy import stats\n",
    "\n",
    "import json\n",
    "from sklearn.model_selection import train_test_split\n",
    "from sklearn.ensemble import RandomForestRegressor\n",
    "from sklearn import metrics #Import scikit-learn metrics module for accuracy calculation\n"
   ]
  },
  {
   "cell_type": "code",
   "execution_count": 2,
   "metadata": {},
   "outputs": [
    {
     "output_type": "stream",
     "name": "stdout",
     "text": [
      "mae 1.8558846838104481\nr2_error 0.8047954939930295\n"
     ]
    }
   ],
   "source": [
    "\n",
    "# Load data and concatenate stations\n",
    "full_data = concat_files()\n",
    "\n",
    "# Replcae NaNs with medians\n",
    "full_data = data_prep.nan_to_median(full_data)\n",
    "\n",
    "# Get a dataframe with optimum features\n",
    "full_data, df_features = data_prep.get_feature_df(full_data)\n",
    "\n",
    "# Remove the outliers\n",
    "full_data.apply(pd.to_numeric, errors='coerce')\n",
    "new_full_data = data_prep.remove_outliers(full_data)\n",
    "\n",
    "# Make target and feature arrays\n",
    "y = np.array(new_full_data['bikes']) # array for target variable\n",
    "X = new_full_data[df_features[0:-1]] # Features (discluding bikes)\n",
    "X = np.array(X) # Turn into numpy array\n",
    "\n",
    "X_train, X_test, y_train, y_test = train_test_split(X, y, test_size = 0.25, random_state= 42)\n",
    "\n",
    "\"\"\"\n",
    "Now train the model\n",
    "\"\"\"\n",
    "\n",
    "# Instantiate model with optimised hyperparamters decision trees\n",
    "rf = RandomForestRegressor(n_estimators = 400, min_samples_split = 2, min_samples_leaf =        1, \n",
    "max_features = 'sqrt', max_depth = None, bootstrap = False)\n",
    "# Train the model on training data\n",
    "rf.fit(X_train, y_train)\n",
    "\n",
    "\n",
    "\"\"\"\n",
    "Evaluation\n",
    "\"\"\"\n",
    "y_pred = rf.predict(X_test) # Use the forest's predict method on the test data\n",
    "print(\"mae {}\".format(metrics.mean_absolute_error(y_test, y_pred)))\n",
    "print(\"r2_error {}\".format(metrics.r2_score(y_test, y_pred)))\n"
   ]
  },
  {
   "cell_type": "code",
   "execution_count": 5,
   "metadata": {},
   "outputs": [
    {
     "output_type": "execute_result",
     "data": {
      "text/plain": [
       "['rf_model.joblib']"
      ]
     },
     "metadata": {},
     "execution_count": 5
    }
   ],
   "source": [
    "# Save mopdel to local disk\n",
    "import joblib\n",
    "joblib.dump(rf, \"rf_model.joblib\")\n",
    "\n",
    "# Then load with this...\n",
    "# loaded_rf = joblib.load(\"rf_model.joblib\")"
   ]
  }
 ]
}