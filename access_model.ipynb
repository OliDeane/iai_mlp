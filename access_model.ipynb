{
 "metadata": {
  "language_info": {
   "codemirror_mode": {
    "name": "ipython",
    "version": 3
   },
   "file_extension": ".py",
   "mimetype": "text/x-python",
   "name": "python",
   "nbconvert_exporter": "python",
   "pygments_lexer": "ipython3",
   "version": "3.8.3-final"
  },
  "orig_nbformat": 2,
  "kernelspec": {
   "name": "python3",
   "display_name": "Python 3",
   "language": "python"
  }
 },
 "nbformat": 4,
 "nbformat_minor": 2,
 "cells": [
  {
   "cell_type": "code",
   "execution_count": 1,
   "metadata": {},
   "outputs": [],
   "source": [
    "import pandas as pd\n",
    "import numpy as np\n",
    "from concat_stations import concat_files\n",
    "import data_prep\n",
    "from rf_optimize import evaluate\n",
    "from scipy import stats\n",
    "import matplotlib.pyplot as plt"
   ]
  },
  {
   "cell_type": "code",
   "execution_count": 112,
   "metadata": {},
   "outputs": [],
   "source": [
    "station1weights = pd.read_csv('/Users/xf20939/Desktop/ML_With_Oli_2/iai_mlp/morebikes2020/Models/Models/model_station_1_rlm_short_full.csv')"
   ]
  },
  {
   "cell_type": "code",
   "execution_count": 113,
   "metadata": {},
   "outputs": [
    {
     "output_type": "execute_result",
     "data": {
      "text/plain": [
       "                       feature    weight\n",
       "0                  (Intercept)  0.199008\n",
       "1                 bikes_3h_ago  0.520615\n",
       "2          short_profile_bikes  0.084022\n",
       "3  short_profile_3h_diff_bikes  0.127143\n",
       "4           full_profile_bikes  0.270997\n",
       "5   full_profile_3h_diff_bikes  0.279874"
      ],
      "text/html": "<div>\n<style scoped>\n    .dataframe tbody tr th:only-of-type {\n        vertical-align: middle;\n    }\n\n    .dataframe tbody tr th {\n        vertical-align: top;\n    }\n\n    .dataframe thead th {\n        text-align: right;\n    }\n</style>\n<table border=\"1\" class=\"dataframe\">\n  <thead>\n    <tr style=\"text-align: right;\">\n      <th></th>\n      <th>feature</th>\n      <th>weight</th>\n    </tr>\n  </thead>\n  <tbody>\n    <tr>\n      <th>0</th>\n      <td>(Intercept)</td>\n      <td>0.199008</td>\n    </tr>\n    <tr>\n      <th>1</th>\n      <td>bikes_3h_ago</td>\n      <td>0.520615</td>\n    </tr>\n    <tr>\n      <th>2</th>\n      <td>short_profile_bikes</td>\n      <td>0.084022</td>\n    </tr>\n    <tr>\n      <th>3</th>\n      <td>short_profile_3h_diff_bikes</td>\n      <td>0.127143</td>\n    </tr>\n    <tr>\n      <th>4</th>\n      <td>full_profile_bikes</td>\n      <td>0.270997</td>\n    </tr>\n    <tr>\n      <th>5</th>\n      <td>full_profile_3h_diff_bikes</td>\n      <td>0.279874</td>\n    </tr>\n  </tbody>\n</table>\n</div>"
     },
     "metadata": {},
     "execution_count": 113
    }
   ],
   "source": [
    "station1weights\n"
   ]
  },
  {
   "cell_type": "code",
   "execution_count": 114,
   "metadata": {},
   "outputs": [
    {
     "output_type": "stream",
     "name": "stdout",
     "text": [
      "['bikes_3h_ago' 'short_profile_bikes' 'short_profile_3h_diff_bikes'\n 'full_profile_bikes' 'full_profile_3h_diff_bikes']\n"
     ]
    }
   ],
   "source": [
    "columns_wanted_from_station = station1weights.iloc[1:, 0].values\n",
    "print(columns_wanted_from_station)"
   ]
  },
  {
   "cell_type": "code",
   "execution_count": 152,
   "metadata": {},
   "outputs": [],
   "source": [
    "station_1 = pd.read_csv('/Users/xf20939/Desktop/ML_With_Oli_2/iai_mlp/morebikes2020/Train/Train/station_201_deploy.csv')\n",
    "#do a full dropna right at beginning\n",
    "station_1 = station_1.dropna()\n"
   ]
  },
  {
   "cell_type": "code",
   "execution_count": 167,
   "metadata": {},
   "outputs": [],
   "source": [
    "#assign Y straight away\n",
    "y_actual = station_1.iloc[:,-1]"
   ]
  },
  {
   "cell_type": "code",
   "execution_count": 153,
   "metadata": {},
   "outputs": [
    {
     "output_type": "stream",
     "name": "stdout",
     "text": [
      "(568, 5)\n"
     ]
    }
   ],
   "source": [
    "#get only the data from the relevant columns\n",
    "X = station_1[columns_wanted_from_station]\n",
    "print(X.shape) #we are reassured that X has 5 columns to match the 5 feature weights "
   ]
  },
  {
   "cell_type": "code",
   "execution_count": 154,
   "metadata": {},
   "outputs": [
    {
     "output_type": "stream",
     "name": "stdout",
     "text": [
      "Index(['bikes_3h_ago', 'short_profile_bikes', 'short_profile_3h_diff_bikes',\n       'full_profile_bikes', 'full_profile_3h_diff_bikes'],\n      dtype='object') ['bikes_3h_ago' 'short_profile_bikes' 'short_profile_3h_diff_bikes'\n 'full_profile_bikes' 'full_profile_3h_diff_bikes']\n"
     ]
    }
   ],
   "source": [
    "print(X.columns,columns_wanted_from_station ) #check that order matches up"
   ]
  },
  {
   "cell_type": "code",
   "execution_count": 155,
   "metadata": {},
   "outputs": [],
   "source": [
    "# for each row in the data, multiply each feature by the weight, and then add the intercept. start with one row. the result is Y."
   ]
  },
  {
   "cell_type": "code",
   "execution_count": 156,
   "metadata": {},
   "outputs": [],
   "source": [
    "# print(X.iloc[0,:], X.iloc[0,:] * [1,2,3,4,5])"
   ]
  },
  {
   "cell_type": "code",
   "execution_count": 157,
   "metadata": {},
   "outputs": [
    {
     "output_type": "execute_result",
     "data": {
      "text/plain": [
       "array([0.19900791, 0.52061533, 0.08402173, 0.1271434 , 0.27099656,\n",
       "       0.27987442])"
      ]
     },
     "metadata": {},
     "execution_count": 157
    }
   ],
   "source": [
    "station1weights.iloc[:,1].values"
   ]
  },
  {
   "cell_type": "code",
   "execution_count": 158,
   "metadata": {},
   "outputs": [
    {
     "output_type": "stream",
     "name": "stdout",
     "text": [
      "0.199007908670311\n"
     ]
    }
   ],
   "source": [
    "intercept_bias = station1weights.iloc[0,1]\n",
    "print(intercept_bias)"
   ]
  },
  {
   "cell_type": "code",
   "execution_count": 159,
   "metadata": {},
   "outputs": [],
   "source": [
    "mx_to_sum = (X.iloc[0,:] * station1weights.iloc[1:,1].values)"
   ]
  },
  {
   "cell_type": "code",
   "execution_count": 160,
   "metadata": {},
   "outputs": [],
   "source": [
    "y_pred = mx_to_sum.sum() + intercept_bias"
   ]
  },
  {
   "cell_type": "code",
   "execution_count": 144,
   "metadata": {},
   "outputs": [
    {
     "output_type": "execute_result",
     "data": {
      "text/plain": [
       "0.199007908670311"
      ]
     },
     "metadata": {},
     "execution_count": 144
    }
   ],
   "source": [
    "y_pred"
   ]
  },
  {
   "cell_type": "code",
   "execution_count": 161,
   "metadata": {},
   "outputs": [],
   "source": [
    "# the function for every row\n",
    "def lineify(row):\n",
    "    #follows equation y=mx+c\n",
    "    #returns a y prediction for each row its applied to\n",
    "    mx_to_sum = (row * station1weights.iloc[1:,1].values)\n",
    "    y_pred = mx_to_sum.sum() + intercept_bias #add all the mxs together then add the c\n",
    "    return y_pred"
   ]
  },
  {
   "cell_type": "code",
   "execution_count": 146,
   "metadata": {},
   "outputs": [
    {
     "output_type": "execute_result",
     "data": {
      "text/plain": [
       "0.199007908670311"
      ]
     },
     "metadata": {},
     "execution_count": 146
    }
   ],
   "source": [
    "lineify(X.iloc[0,:])"
   ]
  },
  {
   "cell_type": "code",
   "execution_count": 162,
   "metadata": {},
   "outputs": [],
   "source": [
    "#now apply lineify for every pd row\n",
    "Y_preds = []\n",
    "for row in X.values:\n",
    "    Y_preds.append(lineify(row))\n"
   ]
  },
  {
   "cell_type": "code",
   "execution_count": 163,
   "metadata": {},
   "outputs": [
    {
     "output_type": "stream",
     "name": "stdout",
     "text": [
      "(568, 5) 568\n"
     ]
    }
   ],
   "source": [
    "print(X.values.shape, len(Y_preds))"
   ]
  },
  {
   "cell_type": "code",
   "execution_count": 168,
   "metadata": {},
   "outputs": [],
   "source": [
    "data_tuples = list(zip(Y_preds, y_actual))"
   ]
  },
  {
   "cell_type": "code",
   "execution_count": 170,
   "metadata": {},
   "outputs": [],
   "source": [
    "Ycomapare = pd.DataFrame(data_tuples, columns=['Y_preds','y_actual'])"
   ]
  },
  {
   "cell_type": "code",
   "execution_count": 171,
   "metadata": {},
   "outputs": [
    {
     "output_type": "execute_result",
     "data": {
      "text/plain": [
       "      Y_preds  y_actual\n",
       "0    3.436297       4.0\n",
       "1    2.802085       3.0\n",
       "2    2.802085       3.0\n",
       "3    2.281469       2.0\n",
       "4    1.760854       7.0\n",
       "..        ...       ...\n",
       "563  2.421205       0.0\n",
       "564  3.094486       2.0\n",
       "565  2.611714       7.0\n",
       "566  3.563171       9.0\n",
       "567  8.109319      14.0\n",
       "\n",
       "[568 rows x 2 columns]"
      ],
      "text/html": "<div>\n<style scoped>\n    .dataframe tbody tr th:only-of-type {\n        vertical-align: middle;\n    }\n\n    .dataframe tbody tr th {\n        vertical-align: top;\n    }\n\n    .dataframe thead th {\n        text-align: right;\n    }\n</style>\n<table border=\"1\" class=\"dataframe\">\n  <thead>\n    <tr style=\"text-align: right;\">\n      <th></th>\n      <th>Y_preds</th>\n      <th>y_actual</th>\n    </tr>\n  </thead>\n  <tbody>\n    <tr>\n      <th>0</th>\n      <td>3.436297</td>\n      <td>4.0</td>\n    </tr>\n    <tr>\n      <th>1</th>\n      <td>2.802085</td>\n      <td>3.0</td>\n    </tr>\n    <tr>\n      <th>2</th>\n      <td>2.802085</td>\n      <td>3.0</td>\n    </tr>\n    <tr>\n      <th>3</th>\n      <td>2.281469</td>\n      <td>2.0</td>\n    </tr>\n    <tr>\n      <th>4</th>\n      <td>1.760854</td>\n      <td>7.0</td>\n    </tr>\n    <tr>\n      <th>...</th>\n      <td>...</td>\n      <td>...</td>\n    </tr>\n    <tr>\n      <th>563</th>\n      <td>2.421205</td>\n      <td>0.0</td>\n    </tr>\n    <tr>\n      <th>564</th>\n      <td>3.094486</td>\n      <td>2.0</td>\n    </tr>\n    <tr>\n      <th>565</th>\n      <td>2.611714</td>\n      <td>7.0</td>\n    </tr>\n    <tr>\n      <th>566</th>\n      <td>3.563171</td>\n      <td>9.0</td>\n    </tr>\n    <tr>\n      <th>567</th>\n      <td>8.109319</td>\n      <td>14.0</td>\n    </tr>\n  </tbody>\n</table>\n<p>568 rows × 2 columns</p>\n</div>"
     },
     "metadata": {},
     "execution_count": 171
    }
   ],
   "source": [
    "Ycomapare"
   ]
  },
  {
   "cell_type": "code",
   "execution_count": null,
   "metadata": {},
   "outputs": [],
   "source": [
    "# build a function that takes in two dataframes and "
   ]
  }
 ]
}