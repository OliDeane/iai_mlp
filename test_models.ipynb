{
 "metadata": {
  "language_info": {
   "codemirror_mode": {
    "name": "ipython",
    "version": 3
   },
   "file_extension": ".py",
   "mimetype": "text/x-python",
   "name": "python",
   "nbconvert_exporter": "python",
   "pygments_lexer": "ipython3",
   "version": "3.8.3-final"
  },
  "orig_nbformat": 2,
  "kernelspec": {
   "name": "mlp_venv",
   "display_name": "mlp_venv",
   "language": "python"
  }
 },
 "nbformat": 4,
 "nbformat_minor": 2,
 "cells": [
  {
   "cell_type": "code",
   "execution_count": 1,
   "metadata": {},
   "outputs": [],
   "source": [
    "# Then load with this...\n",
    "import joblib\n",
    "import os\n",
    "import pandas as pd\n",
    "import numpy as np\n",
    "import data_prep"
   ]
  },
  {
   "cell_type": "code",
   "execution_count": 2,
   "metadata": {},
   "outputs": [],
   "source": [
    "# import test data\n",
    "path = os.getcwd()\n",
    "filename = os.path.join(path, \"morebikes2020/test.csv\")\n",
    "test_df = pd.read_csv(filename, index_col=None, header=0)\n",
    "\n",
    "# No NaNs in the test file so can ignore that step. \n",
    "# Remove unecessary features from the dataframe\n",
    "test_df, df_features = data_prep.get_test_features(test_df)\n",
    "\n",
    "test_array = np.array(test_df) # Turn into numpy array\n"
   ]
  },
  {
   "cell_type": "code",
   "execution_count": 3,
   "metadata": {},
   "outputs": [],
   "source": [
    "#Load rf model and make predictions\n",
    "loaded_rf = joblib.load(\"rf_model.joblib\")\n",
    "y_pred = loaded_rf.predict(test_array) # Use the forest's predict method on the test data"
   ]
  },
  {
   "cell_type": "code",
   "execution_count": 12,
   "metadata": {},
   "outputs": [
    {
     "output_type": "stream",
     "name": "stdout",
     "text": [
      "2250\n"
     ]
    }
   ],
   "source": [
    "print(len(test_df['station']))\n",
    "len((y_pred))\n",
    "\n",
    "prediction_data = {'Id': list(range(1,2251)), 'bikes':y_pred.tolist()}\n",
    "\n",
    "test_output = pd.DataFrame(data = prediction_data)"
   ]
  },
  {
   "cell_type": "code",
   "execution_count": 18,
   "metadata": {},
   "outputs": [],
   "source": [
    "test_output.to_csv('mlp_submission.csv', index = False)"
   ]
  }
 ]
}