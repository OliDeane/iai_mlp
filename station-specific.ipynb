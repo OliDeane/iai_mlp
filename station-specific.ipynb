{
 "metadata": {
  "language_info": {
   "codemirror_mode": {
    "name": "ipython",
    "version": 3
   },
   "file_extension": ".py",
   "mimetype": "text/x-python",
   "name": "python",
   "nbconvert_exporter": "python",
   "pygments_lexer": "ipython3",
   "version": "3.8.5-final"
  },
  "orig_nbformat": 2,
  "kernelspec": {
   "name": "python3",
   "display_name": "Python 3",
   "language": "python"
  }
 },
 "nbformat": 4,
 "nbformat_minor": 2,
 "cells": [
  {
   "cell_type": "code",
   "execution_count": 1,
   "metadata": {},
   "outputs": [],
   "source": [
    "import pandas as pd\n",
    "import numpy as np\n",
    "from concat_stations import concat_files\n",
    "import data_prep\n",
    "from rf_optimize import evaluate\n",
    "from scipy import stats\n",
    "from sklearn.model_selection import train_test_split\n",
    "from sklearn import ensemble\n",
    "from sklearn import metrics #Import scikit-learn metrics module for accuracy calculation\n"
   ]
  },
  {
   "cell_type": "code",
   "execution_count": 2,
   "metadata": {},
   "outputs": [],
   "source": [
    "# Load data and concatenate stations\n",
    "full_data = concat_files()\n",
    "\n",
    "# Replcae NaNs with medians\n",
    "full_data = data_prep.nan_to_median(full_data)\n",
    "\n",
    "#data with features we want\n",
    "new_full_data = full_data.drop(columns=['weekday','windMeanSpeed.m.s', 'windDirection.grades', 'windMaxSpeed.m.s','precipitation.l.m2', 'year', 'month'])\n",
    "\n",
    "#list of features we want\n",
    "df_features = [x for x in full_data.columns if x not in ['bikes','weekday','windMeanSpeed.m.s', 'windDirection.grades', 'windMaxSpeed.m.s','precipitation.l.m2', 'year', 'month']]"
   ]
  },
  {
   "cell_type": "code",
   "execution_count": 15,
   "metadata": {},
   "outputs": [],
   "source": [
    "#testing our assignment for later use in for loop. \"give me all rows were station is number x\"\n",
    "s201 = new_full_data[new_full_data['station'] == 201]\n"
   ]
  },
  {
   "cell_type": "code",
   "execution_count": 32,
   "metadata": {},
   "outputs": [],
   "source": [
    "#populate a list of dataframes, each with a station\n",
    "\n",
    "station_data = []\n",
    "station_number = 201\n",
    "while (station_number < 276):\n",
    "    station_data.append(new_full_data[new_full_data['station'] == (station_number)])\n",
    "    station_number = station_number + 1\n"
   ]
  },
  {
   "cell_type": "code",
   "execution_count": 46,
   "metadata": {},
   "outputs": [
    {
     "output_type": "execute_result",
     "data": {
      "text/plain": [
       "       station   latitude  longitude  numDocks     timestamp  day  hour  \\\n",
       "48425      266  39.492946  -0.401981        15  1.412114e+09    1     0   \n",
       "48426      266  39.492946  -0.401981        15  1.412118e+09    1     1   \n",
       "48427      266  39.492946  -0.401981        15  1.412122e+09    1     2   \n",
       "48428      266  39.492946  -0.401981        15  1.412125e+09    1     3   \n",
       "48429      266  39.492946  -0.401981        15  1.412129e+09    1     4   \n",
       "...        ...        ...        ...       ...           ...  ...   ...   \n",
       "49165      266  39.492946  -0.401981        15  1.414778e+09   31    19   \n",
       "49166      266  39.492946  -0.401981        15  1.414782e+09   31    20   \n",
       "49167      266  39.492946  -0.401981        15  1.414786e+09   31    21   \n",
       "49168      266  39.492946  -0.401981        15  1.414789e+09   31    22   \n",
       "49169      266  39.492946  -0.401981        15  1.414793e+09   31    23   \n",
       "\n",
       "       weekhour  isHoliday  temperature.C  relHumidity.HR  airPressure.mb  \\\n",
       "48425        49          0           21.3            85.0           855.3   \n",
       "48426        50          0           21.1            86.0          1000.6   \n",
       "48427        51          0           20.9            86.0           880.6   \n",
       "48428        52          0           20.4            88.0           859.8   \n",
       "48429        53          0           20.3            87.0           898.1   \n",
       "...         ...        ...            ...             ...             ...   \n",
       "49165       116          0           20.2            80.0          1023.5   \n",
       "49166       117          0           20.2            82.0          1023.9   \n",
       "49167       118          0           20.0            83.0          1024.0   \n",
       "49168       119          0           19.3            84.0          1024.4   \n",
       "49169       120          0           19.1            86.0          1024.1   \n",
       "\n",
       "       bikes_3h_ago  full_profile_3h_diff_bikes  full_profile_bikes  \\\n",
       "48425           1.0                    1.000000            3.000000   \n",
       "48426           1.0                    1.000000            3.666667   \n",
       "48427           1.0                    1.000000            3.250000   \n",
       "48428           2.0                    0.000000            3.250000   \n",
       "48429           2.0                   -0.416667            3.250000   \n",
       "...             ...                         ...                 ...   \n",
       "49165           1.0                   -0.250000            3.500000   \n",
       "49166           2.0                   -0.750000            2.750000   \n",
       "49167           2.0                    0.500000            3.250000   \n",
       "49168           4.0                    0.000000            3.500000   \n",
       "49169           4.0                    1.250000            4.000000   \n",
       "\n",
       "       short_profile_3h_diff_bikes  short_profile_bikes  bikes  \n",
       "48425                     1.000000             3.000000    5.0  \n",
       "48426                     1.000000             3.666667    6.0  \n",
       "48427                     1.000000             3.250000    5.0  \n",
       "48428                     0.000000             3.250000    5.0  \n",
       "48429                    -0.416667             3.250000    5.0  \n",
       "...                            ...                  ...    ...  \n",
       "49165                    -0.250000             3.500000    4.0  \n",
       "49166                    -0.750000             2.750000    4.0  \n",
       "49167                     0.500000             3.250000    8.0  \n",
       "49168                     0.000000             3.500000    7.0  \n",
       "49169                     1.250000             4.000000    6.0  \n",
       "\n",
       "[745 rows x 18 columns]"
      ],
      "text/html": "<div>\n<style scoped>\n    .dataframe tbody tr th:only-of-type {\n        vertical-align: middle;\n    }\n\n    .dataframe tbody tr th {\n        vertical-align: top;\n    }\n\n    .dataframe thead th {\n        text-align: right;\n    }\n</style>\n<table border=\"1\" class=\"dataframe\">\n  <thead>\n    <tr style=\"text-align: right;\">\n      <th></th>\n      <th>station</th>\n      <th>latitude</th>\n      <th>longitude</th>\n      <th>numDocks</th>\n      <th>timestamp</th>\n      <th>day</th>\n      <th>hour</th>\n      <th>weekhour</th>\n      <th>isHoliday</th>\n      <th>temperature.C</th>\n      <th>relHumidity.HR</th>\n      <th>airPressure.mb</th>\n      <th>bikes_3h_ago</th>\n      <th>full_profile_3h_diff_bikes</th>\n      <th>full_profile_bikes</th>\n      <th>short_profile_3h_diff_bikes</th>\n      <th>short_profile_bikes</th>\n      <th>bikes</th>\n    </tr>\n  </thead>\n  <tbody>\n    <tr>\n      <th>48425</th>\n      <td>266</td>\n      <td>39.492946</td>\n      <td>-0.401981</td>\n      <td>15</td>\n      <td>1.412114e+09</td>\n      <td>1</td>\n      <td>0</td>\n      <td>49</td>\n      <td>0</td>\n      <td>21.3</td>\n      <td>85.0</td>\n      <td>855.3</td>\n      <td>1.0</td>\n      <td>1.000000</td>\n      <td>3.000000</td>\n      <td>1.000000</td>\n      <td>3.000000</td>\n      <td>5.0</td>\n    </tr>\n    <tr>\n      <th>48426</th>\n      <td>266</td>\n      <td>39.492946</td>\n      <td>-0.401981</td>\n      <td>15</td>\n      <td>1.412118e+09</td>\n      <td>1</td>\n      <td>1</td>\n      <td>50</td>\n      <td>0</td>\n      <td>21.1</td>\n      <td>86.0</td>\n      <td>1000.6</td>\n      <td>1.0</td>\n      <td>1.000000</td>\n      <td>3.666667</td>\n      <td>1.000000</td>\n      <td>3.666667</td>\n      <td>6.0</td>\n    </tr>\n    <tr>\n      <th>48427</th>\n      <td>266</td>\n      <td>39.492946</td>\n      <td>-0.401981</td>\n      <td>15</td>\n      <td>1.412122e+09</td>\n      <td>1</td>\n      <td>2</td>\n      <td>51</td>\n      <td>0</td>\n      <td>20.9</td>\n      <td>86.0</td>\n      <td>880.6</td>\n      <td>1.0</td>\n      <td>1.000000</td>\n      <td>3.250000</td>\n      <td>1.000000</td>\n      <td>3.250000</td>\n      <td>5.0</td>\n    </tr>\n    <tr>\n      <th>48428</th>\n      <td>266</td>\n      <td>39.492946</td>\n      <td>-0.401981</td>\n      <td>15</td>\n      <td>1.412125e+09</td>\n      <td>1</td>\n      <td>3</td>\n      <td>52</td>\n      <td>0</td>\n      <td>20.4</td>\n      <td>88.0</td>\n      <td>859.8</td>\n      <td>2.0</td>\n      <td>0.000000</td>\n      <td>3.250000</td>\n      <td>0.000000</td>\n      <td>3.250000</td>\n      <td>5.0</td>\n    </tr>\n    <tr>\n      <th>48429</th>\n      <td>266</td>\n      <td>39.492946</td>\n      <td>-0.401981</td>\n      <td>15</td>\n      <td>1.412129e+09</td>\n      <td>1</td>\n      <td>4</td>\n      <td>53</td>\n      <td>0</td>\n      <td>20.3</td>\n      <td>87.0</td>\n      <td>898.1</td>\n      <td>2.0</td>\n      <td>-0.416667</td>\n      <td>3.250000</td>\n      <td>-0.416667</td>\n      <td>3.250000</td>\n      <td>5.0</td>\n    </tr>\n    <tr>\n      <th>...</th>\n      <td>...</td>\n      <td>...</td>\n      <td>...</td>\n      <td>...</td>\n      <td>...</td>\n      <td>...</td>\n      <td>...</td>\n      <td>...</td>\n      <td>...</td>\n      <td>...</td>\n      <td>...</td>\n      <td>...</td>\n      <td>...</td>\n      <td>...</td>\n      <td>...</td>\n      <td>...</td>\n      <td>...</td>\n      <td>...</td>\n    </tr>\n    <tr>\n      <th>49165</th>\n      <td>266</td>\n      <td>39.492946</td>\n      <td>-0.401981</td>\n      <td>15</td>\n      <td>1.414778e+09</td>\n      <td>31</td>\n      <td>19</td>\n      <td>116</td>\n      <td>0</td>\n      <td>20.2</td>\n      <td>80.0</td>\n      <td>1023.5</td>\n      <td>1.0</td>\n      <td>-0.250000</td>\n      <td>3.500000</td>\n      <td>-0.250000</td>\n      <td>3.500000</td>\n      <td>4.0</td>\n    </tr>\n    <tr>\n      <th>49166</th>\n      <td>266</td>\n      <td>39.492946</td>\n      <td>-0.401981</td>\n      <td>15</td>\n      <td>1.414782e+09</td>\n      <td>31</td>\n      <td>20</td>\n      <td>117</td>\n      <td>0</td>\n      <td>20.2</td>\n      <td>82.0</td>\n      <td>1023.9</td>\n      <td>2.0</td>\n      <td>-0.750000</td>\n      <td>2.750000</td>\n      <td>-0.750000</td>\n      <td>2.750000</td>\n      <td>4.0</td>\n    </tr>\n    <tr>\n      <th>49167</th>\n      <td>266</td>\n      <td>39.492946</td>\n      <td>-0.401981</td>\n      <td>15</td>\n      <td>1.414786e+09</td>\n      <td>31</td>\n      <td>21</td>\n      <td>118</td>\n      <td>0</td>\n      <td>20.0</td>\n      <td>83.0</td>\n      <td>1024.0</td>\n      <td>2.0</td>\n      <td>0.500000</td>\n      <td>3.250000</td>\n      <td>0.500000</td>\n      <td>3.250000</td>\n      <td>8.0</td>\n    </tr>\n    <tr>\n      <th>49168</th>\n      <td>266</td>\n      <td>39.492946</td>\n      <td>-0.401981</td>\n      <td>15</td>\n      <td>1.414789e+09</td>\n      <td>31</td>\n      <td>22</td>\n      <td>119</td>\n      <td>0</td>\n      <td>19.3</td>\n      <td>84.0</td>\n      <td>1024.4</td>\n      <td>4.0</td>\n      <td>0.000000</td>\n      <td>3.500000</td>\n      <td>0.000000</td>\n      <td>3.500000</td>\n      <td>7.0</td>\n    </tr>\n    <tr>\n      <th>49169</th>\n      <td>266</td>\n      <td>39.492946</td>\n      <td>-0.401981</td>\n      <td>15</td>\n      <td>1.414793e+09</td>\n      <td>31</td>\n      <td>23</td>\n      <td>120</td>\n      <td>0</td>\n      <td>19.1</td>\n      <td>86.0</td>\n      <td>1024.1</td>\n      <td>4.0</td>\n      <td>1.250000</td>\n      <td>4.000000</td>\n      <td>1.250000</td>\n      <td>4.000000</td>\n      <td>6.0</td>\n    </tr>\n  </tbody>\n</table>\n<p>745 rows × 18 columns</p>\n</div>"
     },
     "metadata": {},
     "execution_count": 46
    }
   ],
   "source": [
    "#have a look at what an element in the station data list looks like\n",
    "station_data[-10]"
   ]
  },
  {
   "cell_type": "code",
   "execution_count": 126,
   "metadata": {},
   "outputs": [],
   "source": [
    "params = {\"max_depth\":7, \"min_samples_leaf\":30, \"min_samples_split\":600, \"n_estimators\" : 1800, \"random_state\" :8, \"subsample\":0.6, \"max_features\" : 7, \"learning_rate\" : 0.001}\n",
    "\n",
    "\n",
    "\n",
    "def train_and_test_model(stationdf):\n",
    "\n",
    "    y = np.array(stationdf['bikes']) # array for target variable\n",
    "    X = stationdf[df_features] # Features (exluding bikes)\n",
    "    X = np.array(X) # Turn into numpy array\n",
    "    X_train, X_test, y_train, y_test = train_test_split(X, y, test_size = 0.25, random_state= 42)\n",
    "    # Instantiate the model\n",
    "    reg = ensemble.GradientBoostingRegressor(**params)\n",
    "    reg.fit(X_train, y_train)\n",
    "    mae = metrics.mean_absolute_error(y_test, reg.predict(X_test))\n",
    "    station_num = stationdf.iloc[1,0]\n",
    "    print(\"for station \" + str(station_num) + \", the mean absolute error (MAE) on test set is: {:.4f}\".format(mae))\n",
    "    \n",
    "    return mae"
   ]
  },
  {
   "cell_type": "code",
   "execution_count": 127,
   "metadata": {},
   "outputs": [
    {
     "output_type": "stream",
     "name": "stdout",
     "text": [
      "for station 201, the mean absolute error (MAE) on test set is: 3.2533\n",
      "for station 202, the mean absolute error (MAE) on test set is: 3.1047\n",
      "for station 203, the mean absolute error (MAE) on test set is: 3.7752\n",
      "for station 204, the mean absolute error (MAE) on test set is: 5.9906\n",
      "for station 205, the mean absolute error (MAE) on test set is: 3.1374\n",
      "for station 206, the mean absolute error (MAE) on test set is: 6.1522\n",
      "for station 207, the mean absolute error (MAE) on test set is: 4.5299\n",
      "for station 208, the mean absolute error (MAE) on test set is: 8.1521\n",
      "4.7619211364538945\n"
     ]
    }
   ],
   "source": [
    "\n",
    "accum = 0\n",
    "\n",
    "#train eight models and have a look at the average MAE\n",
    "for station_df in station_data:\n",
    "    if (station_df.iloc[1,0] < 209):\n",
    "        mae = train_and_test_model(station_df)\n",
    "        accum = accum + mae\n",
    "\n",
    "print(accum/8)\n",
    "\n",
    "\n",
    "\n"
   ]
  },
  {
   "cell_type": "code",
   "execution_count": 132,
   "metadata": {},
   "outputs": [],
   "source": [
    "from sklearn.svm import SVR\n",
    "\n",
    "def traintest_SVR(stationdf):\n",
    "\n",
    "    y = np.array(stationdf['bikes']) # array for target variable\n",
    "    X = stationdf[df_features] # Features (exluding bikes)\n",
    "    X = np.array(X) # Turn into numpy array\n",
    "    X_train, X_test, y_train, y_test = train_test_split(X, y, test_size = 0.25, random_state= 42)\n",
    "    # Instantiate the model\n",
    "    reg = SVR()\n",
    "    reg.fit(X_train, y_train)\n",
    "\n",
    "    mae = metrics.mean_absolute_error(y_test, reg.predict(X_test))\n",
    "    station_num = stationdf.iloc[1,0]\n",
    "    print(\"for station \" + str(station_num) + \", the mean absolute error (MAE) on test set is: {:.4f}\".format(mae))\n",
    "    \n",
    "    return mae"
   ]
  },
  {
   "cell_type": "code",
   "execution_count": 133,
   "metadata": {},
   "outputs": [
    {
     "output_type": "stream",
     "name": "stdout",
     "text": [
      "for station 201, the mean absolute error (MAE) on test set is: 3.0283\nfor station 202, the mean absolute error (MAE) on test set is: 2.8711\nfor station 203, the mean absolute error (MAE) on test set is: 3.3406\nfor station 204, the mean absolute error (MAE) on test set is: 5.3631\nfor station 205, the mean absolute error (MAE) on test set is: 2.7385\nfor station 206, the mean absolute error (MAE) on test set is: 5.6594\nfor station 207, the mean absolute error (MAE) on test set is: 3.7888\nfor station 208, the mean absolute error (MAE) on test set is: 7.0679\n4.232215947082877\n"
     ]
    }
   ],
   "source": [
    "# same as before but trying with svr  not gradient boosting\n",
    "\n",
    "accum = 0\n",
    "\n",
    "for station_df in station_data:\n",
    "    if (station_df.iloc[1,0] < 209):\n",
    "        mae = traintest_SVR(station_df)\n",
    "        accum = accum + mae\n",
    "\n",
    "\n",
    "print(accum/8)\n",
    "\n",
    "\n"
   ]
  },
  {
   "cell_type": "code",
   "execution_count": null,
   "metadata": {},
   "outputs": [],
   "source": []
  }
 ]
}