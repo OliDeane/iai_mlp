{
 "metadata": {
  "language_info": {
   "codemirror_mode": {
    "name": "ipython",
    "version": 3
   },
   "file_extension": ".py",
   "mimetype": "text/x-python",
   "name": "python",
   "nbconvert_exporter": "python",
   "pygments_lexer": "ipython3",
   "version": "3.8.5-final"
  },
  "orig_nbformat": 2,
  "kernelspec": {
   "name": "python3",
   "display_name": "Python 3",
   "language": "python"
  }
 },
 "nbformat": 4,
 "nbformat_minor": 2,
 "cells": [
  {
   "cell_type": "code",
   "execution_count": 1,
   "metadata": {},
   "outputs": [],
   "source": [
    "import pandas as pd\n",
    "import numpy as np\n",
    "from concat_stations import concat_files\n",
    "import data_prep\n",
    "from rf_optimize import evaluate\n",
    "from scipy import stats\n",
    "import matplotlib.pyplot as plt"
   ]
  },
  {
   "cell_type": "code",
   "execution_count": 5,
   "metadata": {},
   "outputs": [
    {
     "output_type": "execute_result",
     "data": {
      "text/plain": [
       "       station   latitude  longitude  numDocks     timestamp  year  month  \\\n",
       "0          206  39.472030  -0.370965        24  1.412114e+09  2014     10   \n",
       "1          206  39.472030  -0.370965        24  1.412118e+09  2014     10   \n",
       "2          206  39.472030  -0.370965        24  1.412122e+09  2014     10   \n",
       "3          206  39.472030  -0.370965        24  1.412125e+09  2014     10   \n",
       "4          206  39.472030  -0.370965        24  1.412129e+09  2014     10   \n",
       "...        ...        ...        ...       ...           ...   ...    ...   \n",
       "55870      208  39.469056  -0.375728        34  1.414778e+09  2014     10   \n",
       "55871      208  39.469056  -0.375728        34  1.414782e+09  2014     10   \n",
       "55872      208  39.469056  -0.375728        34  1.414786e+09  2014     10   \n",
       "55873      208  39.469056  -0.375728        34  1.414789e+09  2014     10   \n",
       "55874      208  39.469056  -0.375728        34  1.414793e+09  2014     10   \n",
       "\n",
       "       day  hour    weekday  ...  temperature.C  relHumidity.HR  \\\n",
       "0        1     0  Wednesday  ...           21.3            85.0   \n",
       "1        1     1  Wednesday  ...           21.1            86.0   \n",
       "2        1     2  Wednesday  ...           20.9            86.0   \n",
       "3        1     3  Wednesday  ...           20.4            88.0   \n",
       "4        1     4  Wednesday  ...           20.3            87.0   \n",
       "...    ...   ...        ...  ...            ...             ...   \n",
       "55870   31    19     Friday  ...           20.2            80.0   \n",
       "55871   31    20     Friday  ...           20.2            82.0   \n",
       "55872   31    21     Friday  ...           20.0            83.0   \n",
       "55873   31    22     Friday  ...           19.3            84.0   \n",
       "55874   31    23     Friday  ...           19.1            86.0   \n",
       "\n",
       "       airPressure.mb  precipitation.l.m2  bikes_3h_ago  \\\n",
       "0               855.3                 0.0           NaN   \n",
       "1              1000.6                 0.0           NaN   \n",
       "2               880.6                 0.0           NaN   \n",
       "3               859.8                 0.0           0.0   \n",
       "4               898.1                 0.0           0.0   \n",
       "...               ...                 ...           ...   \n",
       "55870          1023.5                 0.0          12.0   \n",
       "55871          1023.9                 0.0           9.0   \n",
       "55872          1024.0                 0.0           6.0   \n",
       "55873          1024.4                 0.0           6.0   \n",
       "55874          1024.1                 0.0           7.0   \n",
       "\n",
       "       full_profile_3h_diff_bikes  full_profile_bikes  \\\n",
       "0                             NaN                 NaN   \n",
       "1                             NaN                 NaN   \n",
       "2                             NaN                 NaN   \n",
       "3                             NaN                 NaN   \n",
       "4                             NaN                 NaN   \n",
       "...                           ...                 ...   \n",
       "55870                        0.25               10.00   \n",
       "55871                       -2.25                6.50   \n",
       "55872                       -1.75                6.00   \n",
       "55873                       -6.75                3.25   \n",
       "55874                       -3.50                3.00   \n",
       "\n",
       "       short_profile_3h_diff_bikes  short_profile_bikes  bikes  \n",
       "0                              NaN                  NaN    0.0  \n",
       "1                              NaN                  NaN    0.0  \n",
       "2                              NaN                  NaN    0.0  \n",
       "3                              NaN                  NaN    0.0  \n",
       "4                              NaN                  NaN    0.0  \n",
       "...                            ...                  ...    ...  \n",
       "55870                         0.25                10.00    6.0  \n",
       "55871                        -2.25                 6.50    7.0  \n",
       "55872                        -1.75                 6.00    6.0  \n",
       "55873                        -6.75                 3.25    5.0  \n",
       "55874                        -3.50                 3.00   11.0  \n",
       "\n",
       "[55875 rows x 25 columns]"
      ],
      "text/html": "<div>\n<style scoped>\n    .dataframe tbody tr th:only-of-type {\n        vertical-align: middle;\n    }\n\n    .dataframe tbody tr th {\n        vertical-align: top;\n    }\n\n    .dataframe thead th {\n        text-align: right;\n    }\n</style>\n<table border=\"1\" class=\"dataframe\">\n  <thead>\n    <tr style=\"text-align: right;\">\n      <th></th>\n      <th>station</th>\n      <th>latitude</th>\n      <th>longitude</th>\n      <th>numDocks</th>\n      <th>timestamp</th>\n      <th>year</th>\n      <th>month</th>\n      <th>day</th>\n      <th>hour</th>\n      <th>weekday</th>\n      <th>...</th>\n      <th>temperature.C</th>\n      <th>relHumidity.HR</th>\n      <th>airPressure.mb</th>\n      <th>precipitation.l.m2</th>\n      <th>bikes_3h_ago</th>\n      <th>full_profile_3h_diff_bikes</th>\n      <th>full_profile_bikes</th>\n      <th>short_profile_3h_diff_bikes</th>\n      <th>short_profile_bikes</th>\n      <th>bikes</th>\n    </tr>\n  </thead>\n  <tbody>\n    <tr>\n      <th>0</th>\n      <td>206</td>\n      <td>39.472030</td>\n      <td>-0.370965</td>\n      <td>24</td>\n      <td>1.412114e+09</td>\n      <td>2014</td>\n      <td>10</td>\n      <td>1</td>\n      <td>0</td>\n      <td>Wednesday</td>\n      <td>...</td>\n      <td>21.3</td>\n      <td>85.0</td>\n      <td>855.3</td>\n      <td>0.0</td>\n      <td>NaN</td>\n      <td>NaN</td>\n      <td>NaN</td>\n      <td>NaN</td>\n      <td>NaN</td>\n      <td>0.0</td>\n    </tr>\n    <tr>\n      <th>1</th>\n      <td>206</td>\n      <td>39.472030</td>\n      <td>-0.370965</td>\n      <td>24</td>\n      <td>1.412118e+09</td>\n      <td>2014</td>\n      <td>10</td>\n      <td>1</td>\n      <td>1</td>\n      <td>Wednesday</td>\n      <td>...</td>\n      <td>21.1</td>\n      <td>86.0</td>\n      <td>1000.6</td>\n      <td>0.0</td>\n      <td>NaN</td>\n      <td>NaN</td>\n      <td>NaN</td>\n      <td>NaN</td>\n      <td>NaN</td>\n      <td>0.0</td>\n    </tr>\n    <tr>\n      <th>2</th>\n      <td>206</td>\n      <td>39.472030</td>\n      <td>-0.370965</td>\n      <td>24</td>\n      <td>1.412122e+09</td>\n      <td>2014</td>\n      <td>10</td>\n      <td>1</td>\n      <td>2</td>\n      <td>Wednesday</td>\n      <td>...</td>\n      <td>20.9</td>\n      <td>86.0</td>\n      <td>880.6</td>\n      <td>0.0</td>\n      <td>NaN</td>\n      <td>NaN</td>\n      <td>NaN</td>\n      <td>NaN</td>\n      <td>NaN</td>\n      <td>0.0</td>\n    </tr>\n    <tr>\n      <th>3</th>\n      <td>206</td>\n      <td>39.472030</td>\n      <td>-0.370965</td>\n      <td>24</td>\n      <td>1.412125e+09</td>\n      <td>2014</td>\n      <td>10</td>\n      <td>1</td>\n      <td>3</td>\n      <td>Wednesday</td>\n      <td>...</td>\n      <td>20.4</td>\n      <td>88.0</td>\n      <td>859.8</td>\n      <td>0.0</td>\n      <td>0.0</td>\n      <td>NaN</td>\n      <td>NaN</td>\n      <td>NaN</td>\n      <td>NaN</td>\n      <td>0.0</td>\n    </tr>\n    <tr>\n      <th>4</th>\n      <td>206</td>\n      <td>39.472030</td>\n      <td>-0.370965</td>\n      <td>24</td>\n      <td>1.412129e+09</td>\n      <td>2014</td>\n      <td>10</td>\n      <td>1</td>\n      <td>4</td>\n      <td>Wednesday</td>\n      <td>...</td>\n      <td>20.3</td>\n      <td>87.0</td>\n      <td>898.1</td>\n      <td>0.0</td>\n      <td>0.0</td>\n      <td>NaN</td>\n      <td>NaN</td>\n      <td>NaN</td>\n      <td>NaN</td>\n      <td>0.0</td>\n    </tr>\n    <tr>\n      <th>...</th>\n      <td>...</td>\n      <td>...</td>\n      <td>...</td>\n      <td>...</td>\n      <td>...</td>\n      <td>...</td>\n      <td>...</td>\n      <td>...</td>\n      <td>...</td>\n      <td>...</td>\n      <td>...</td>\n      <td>...</td>\n      <td>...</td>\n      <td>...</td>\n      <td>...</td>\n      <td>...</td>\n      <td>...</td>\n      <td>...</td>\n      <td>...</td>\n      <td>...</td>\n      <td>...</td>\n    </tr>\n    <tr>\n      <th>55870</th>\n      <td>208</td>\n      <td>39.469056</td>\n      <td>-0.375728</td>\n      <td>34</td>\n      <td>1.414778e+09</td>\n      <td>2014</td>\n      <td>10</td>\n      <td>31</td>\n      <td>19</td>\n      <td>Friday</td>\n      <td>...</td>\n      <td>20.2</td>\n      <td>80.0</td>\n      <td>1023.5</td>\n      <td>0.0</td>\n      <td>12.0</td>\n      <td>0.25</td>\n      <td>10.00</td>\n      <td>0.25</td>\n      <td>10.00</td>\n      <td>6.0</td>\n    </tr>\n    <tr>\n      <th>55871</th>\n      <td>208</td>\n      <td>39.469056</td>\n      <td>-0.375728</td>\n      <td>34</td>\n      <td>1.414782e+09</td>\n      <td>2014</td>\n      <td>10</td>\n      <td>31</td>\n      <td>20</td>\n      <td>Friday</td>\n      <td>...</td>\n      <td>20.2</td>\n      <td>82.0</td>\n      <td>1023.9</td>\n      <td>0.0</td>\n      <td>9.0</td>\n      <td>-2.25</td>\n      <td>6.50</td>\n      <td>-2.25</td>\n      <td>6.50</td>\n      <td>7.0</td>\n    </tr>\n    <tr>\n      <th>55872</th>\n      <td>208</td>\n      <td>39.469056</td>\n      <td>-0.375728</td>\n      <td>34</td>\n      <td>1.414786e+09</td>\n      <td>2014</td>\n      <td>10</td>\n      <td>31</td>\n      <td>21</td>\n      <td>Friday</td>\n      <td>...</td>\n      <td>20.0</td>\n      <td>83.0</td>\n      <td>1024.0</td>\n      <td>0.0</td>\n      <td>6.0</td>\n      <td>-1.75</td>\n      <td>6.00</td>\n      <td>-1.75</td>\n      <td>6.00</td>\n      <td>6.0</td>\n    </tr>\n    <tr>\n      <th>55873</th>\n      <td>208</td>\n      <td>39.469056</td>\n      <td>-0.375728</td>\n      <td>34</td>\n      <td>1.414789e+09</td>\n      <td>2014</td>\n      <td>10</td>\n      <td>31</td>\n      <td>22</td>\n      <td>Friday</td>\n      <td>...</td>\n      <td>19.3</td>\n      <td>84.0</td>\n      <td>1024.4</td>\n      <td>0.0</td>\n      <td>6.0</td>\n      <td>-6.75</td>\n      <td>3.25</td>\n      <td>-6.75</td>\n      <td>3.25</td>\n      <td>5.0</td>\n    </tr>\n    <tr>\n      <th>55874</th>\n      <td>208</td>\n      <td>39.469056</td>\n      <td>-0.375728</td>\n      <td>34</td>\n      <td>1.414793e+09</td>\n      <td>2014</td>\n      <td>10</td>\n      <td>31</td>\n      <td>23</td>\n      <td>Friday</td>\n      <td>...</td>\n      <td>19.1</td>\n      <td>86.0</td>\n      <td>1024.1</td>\n      <td>0.0</td>\n      <td>7.0</td>\n      <td>-3.50</td>\n      <td>3.00</td>\n      <td>-3.50</td>\n      <td>3.00</td>\n      <td>11.0</td>\n    </tr>\n  </tbody>\n</table>\n<p>55875 rows × 25 columns</p>\n</div>"
     },
     "metadata": {},
     "execution_count": 5
    }
   ],
   "source": [
    "#full_data = concat_files()\n",
    "full_data"
   ]
  },
  {
   "cell_type": "code",
   "execution_count": 12,
   "metadata": {},
   "outputs": [],
   "source": [
    "full_data=full_data.drop(labels=['precipitation.l.m2', 'weekday', 'year', 'month'], axis=1)"
   ]
  },
  {
   "cell_type": "code",
   "execution_count": 14,
   "metadata": {},
   "outputs": [],
   "source": [
    "full_data = full_data.drop(labels='isHoliday', axis=1)"
   ]
  },
  {
   "cell_type": "code",
   "execution_count": null,
   "metadata": {},
   "outputs": [],
   "source": []
  },
  {
   "cell_type": "code",
   "execution_count": 20,
   "metadata": {},
   "outputs": [],
   "source": [
    "full_data = full_data.dropna(axis=0)"
   ]
  },
  {
   "cell_type": "code",
   "execution_count": 29,
   "metadata": {},
   "outputs": [],
   "source": [
    "full_data.to_csv(r'/Users/xf20939/Desktop/clean_data.csv')"
   ]
  },
  {
   "cell_type": "code",
   "execution_count": 28,
   "metadata": {},
   "outputs": [
    {
     "output_type": "execute_result",
     "data": {
      "text/plain": [
       "       station   latitude  longitude  numDocks     timestamp  day  hour  \\\n",
       "171        206  39.472030  -0.370965        24  1.412730e+09    8     3   \n",
       "172        206  39.472030  -0.370965        24  1.412734e+09    8     4   \n",
       "173        206  39.472030  -0.370965        24  1.412737e+09    8     5   \n",
       "174        206  39.472030  -0.370965        24  1.412741e+09    8     6   \n",
       "175        206  39.472030  -0.370965        24  1.412744e+09    8     7   \n",
       "...        ...        ...        ...       ...           ...  ...   ...   \n",
       "55870      208  39.469056  -0.375728        34  1.414778e+09   31    19   \n",
       "55871      208  39.469056  -0.375728        34  1.414782e+09   31    20   \n",
       "55872      208  39.469056  -0.375728        34  1.414786e+09   31    21   \n",
       "55873      208  39.469056  -0.375728        34  1.414789e+09   31    22   \n",
       "55874      208  39.469056  -0.375728        34  1.414793e+09   31    23   \n",
       "\n",
       "       weekhour  windMaxSpeed.m.s  windMeanSpeed.m.s  windDirection.grades  \\\n",
       "171          52               1.6                0.0                 180.0   \n",
       "172          53               3.2                1.6                 202.5   \n",
       "173          54               3.2                0.0                 202.5   \n",
       "174          55               8.0                3.2                 202.5   \n",
       "175          56               9.7                4.8                 202.5   \n",
       "...         ...               ...                ...                   ...   \n",
       "55870       116               9.7                4.8                  22.5   \n",
       "55871       117               6.4                1.6                 337.5   \n",
       "55872       118               3.2                0.0                 315.0   \n",
       "55873       119               0.0                0.0                 146.3   \n",
       "55874       120               4.8                1.6                 157.5   \n",
       "\n",
       "       temperature.C  relHumidity.HR  airPressure.mb  bikes_3h_ago  \\\n",
       "171             21.5            59.0          1011.5           0.0   \n",
       "172             20.8            62.0          1011.1           0.0   \n",
       "173             19.8            67.0          1010.9           0.0   \n",
       "174             19.7            66.0          1010.8           0.0   \n",
       "175             19.6            67.0          1011.1           0.0   \n",
       "...              ...             ...             ...           ...   \n",
       "55870           20.2            80.0          1023.5          12.0   \n",
       "55871           20.2            82.0          1023.9           9.0   \n",
       "55872           20.0            83.0          1024.0           6.0   \n",
       "55873           19.3            84.0          1024.4           6.0   \n",
       "55874           19.1            86.0          1024.1           7.0   \n",
       "\n",
       "       full_profile_3h_diff_bikes  full_profile_bikes  \\\n",
       "171                          0.00                0.00   \n",
       "172                          0.00                0.00   \n",
       "173                          0.00                0.00   \n",
       "174                          1.00                1.00   \n",
       "175                          2.00                2.00   \n",
       "...                           ...                 ...   \n",
       "55870                        0.25               10.00   \n",
       "55871                       -2.25                6.50   \n",
       "55872                       -1.75                6.00   \n",
       "55873                       -6.75                3.25   \n",
       "55874                       -3.50                3.00   \n",
       "\n",
       "       short_profile_3h_diff_bikes  short_profile_bikes  bikes  \n",
       "171                           0.00                 0.00    0.0  \n",
       "172                           0.00                 0.00    0.0  \n",
       "173                           0.00                 0.00    0.0  \n",
       "174                           1.00                 1.00    1.0  \n",
       "175                           2.00                 2.00    4.0  \n",
       "...                            ...                  ...    ...  \n",
       "55870                         0.25                10.00    6.0  \n",
       "55871                        -2.25                 6.50    7.0  \n",
       "55872                        -1.75                 6.00    6.0  \n",
       "55873                        -6.75                 3.25    5.0  \n",
       "55874                        -3.50                 3.00   11.0  \n",
       "\n",
       "[42600 rows x 20 columns]"
      ],
      "text/html": "<div>\n<style scoped>\n    .dataframe tbody tr th:only-of-type {\n        vertical-align: middle;\n    }\n\n    .dataframe tbody tr th {\n        vertical-align: top;\n    }\n\n    .dataframe thead th {\n        text-align: right;\n    }\n</style>\n<table border=\"1\" class=\"dataframe\">\n  <thead>\n    <tr style=\"text-align: right;\">\n      <th></th>\n      <th>station</th>\n      <th>latitude</th>\n      <th>longitude</th>\n      <th>numDocks</th>\n      <th>timestamp</th>\n      <th>day</th>\n      <th>hour</th>\n      <th>weekhour</th>\n      <th>windMaxSpeed.m.s</th>\n      <th>windMeanSpeed.m.s</th>\n      <th>windDirection.grades</th>\n      <th>temperature.C</th>\n      <th>relHumidity.HR</th>\n      <th>airPressure.mb</th>\n      <th>bikes_3h_ago</th>\n      <th>full_profile_3h_diff_bikes</th>\n      <th>full_profile_bikes</th>\n      <th>short_profile_3h_diff_bikes</th>\n      <th>short_profile_bikes</th>\n      <th>bikes</th>\n    </tr>\n  </thead>\n  <tbody>\n    <tr>\n      <th>171</th>\n      <td>206</td>\n      <td>39.472030</td>\n      <td>-0.370965</td>\n      <td>24</td>\n      <td>1.412730e+09</td>\n      <td>8</td>\n      <td>3</td>\n      <td>52</td>\n      <td>1.6</td>\n      <td>0.0</td>\n      <td>180.0</td>\n      <td>21.5</td>\n      <td>59.0</td>\n      <td>1011.5</td>\n      <td>0.0</td>\n      <td>0.00</td>\n      <td>0.00</td>\n      <td>0.00</td>\n      <td>0.00</td>\n      <td>0.0</td>\n    </tr>\n    <tr>\n      <th>172</th>\n      <td>206</td>\n      <td>39.472030</td>\n      <td>-0.370965</td>\n      <td>24</td>\n      <td>1.412734e+09</td>\n      <td>8</td>\n      <td>4</td>\n      <td>53</td>\n      <td>3.2</td>\n      <td>1.6</td>\n      <td>202.5</td>\n      <td>20.8</td>\n      <td>62.0</td>\n      <td>1011.1</td>\n      <td>0.0</td>\n      <td>0.00</td>\n      <td>0.00</td>\n      <td>0.00</td>\n      <td>0.00</td>\n      <td>0.0</td>\n    </tr>\n    <tr>\n      <th>173</th>\n      <td>206</td>\n      <td>39.472030</td>\n      <td>-0.370965</td>\n      <td>24</td>\n      <td>1.412737e+09</td>\n      <td>8</td>\n      <td>5</td>\n      <td>54</td>\n      <td>3.2</td>\n      <td>0.0</td>\n      <td>202.5</td>\n      <td>19.8</td>\n      <td>67.0</td>\n      <td>1010.9</td>\n      <td>0.0</td>\n      <td>0.00</td>\n      <td>0.00</td>\n      <td>0.00</td>\n      <td>0.00</td>\n      <td>0.0</td>\n    </tr>\n    <tr>\n      <th>174</th>\n      <td>206</td>\n      <td>39.472030</td>\n      <td>-0.370965</td>\n      <td>24</td>\n      <td>1.412741e+09</td>\n      <td>8</td>\n      <td>6</td>\n      <td>55</td>\n      <td>8.0</td>\n      <td>3.2</td>\n      <td>202.5</td>\n      <td>19.7</td>\n      <td>66.0</td>\n      <td>1010.8</td>\n      <td>0.0</td>\n      <td>1.00</td>\n      <td>1.00</td>\n      <td>1.00</td>\n      <td>1.00</td>\n      <td>1.0</td>\n    </tr>\n    <tr>\n      <th>175</th>\n      <td>206</td>\n      <td>39.472030</td>\n      <td>-0.370965</td>\n      <td>24</td>\n      <td>1.412744e+09</td>\n      <td>8</td>\n      <td>7</td>\n      <td>56</td>\n      <td>9.7</td>\n      <td>4.8</td>\n      <td>202.5</td>\n      <td>19.6</td>\n      <td>67.0</td>\n      <td>1011.1</td>\n      <td>0.0</td>\n      <td>2.00</td>\n      <td>2.00</td>\n      <td>2.00</td>\n      <td>2.00</td>\n      <td>4.0</td>\n    </tr>\n    <tr>\n      <th>...</th>\n      <td>...</td>\n      <td>...</td>\n      <td>...</td>\n      <td>...</td>\n      <td>...</td>\n      <td>...</td>\n      <td>...</td>\n      <td>...</td>\n      <td>...</td>\n      <td>...</td>\n      <td>...</td>\n      <td>...</td>\n      <td>...</td>\n      <td>...</td>\n      <td>...</td>\n      <td>...</td>\n      <td>...</td>\n      <td>...</td>\n      <td>...</td>\n      <td>...</td>\n    </tr>\n    <tr>\n      <th>55870</th>\n      <td>208</td>\n      <td>39.469056</td>\n      <td>-0.375728</td>\n      <td>34</td>\n      <td>1.414778e+09</td>\n      <td>31</td>\n      <td>19</td>\n      <td>116</td>\n      <td>9.7</td>\n      <td>4.8</td>\n      <td>22.5</td>\n      <td>20.2</td>\n      <td>80.0</td>\n      <td>1023.5</td>\n      <td>12.0</td>\n      <td>0.25</td>\n      <td>10.00</td>\n      <td>0.25</td>\n      <td>10.00</td>\n      <td>6.0</td>\n    </tr>\n    <tr>\n      <th>55871</th>\n      <td>208</td>\n      <td>39.469056</td>\n      <td>-0.375728</td>\n      <td>34</td>\n      <td>1.414782e+09</td>\n      <td>31</td>\n      <td>20</td>\n      <td>117</td>\n      <td>6.4</td>\n      <td>1.6</td>\n      <td>337.5</td>\n      <td>20.2</td>\n      <td>82.0</td>\n      <td>1023.9</td>\n      <td>9.0</td>\n      <td>-2.25</td>\n      <td>6.50</td>\n      <td>-2.25</td>\n      <td>6.50</td>\n      <td>7.0</td>\n    </tr>\n    <tr>\n      <th>55872</th>\n      <td>208</td>\n      <td>39.469056</td>\n      <td>-0.375728</td>\n      <td>34</td>\n      <td>1.414786e+09</td>\n      <td>31</td>\n      <td>21</td>\n      <td>118</td>\n      <td>3.2</td>\n      <td>0.0</td>\n      <td>315.0</td>\n      <td>20.0</td>\n      <td>83.0</td>\n      <td>1024.0</td>\n      <td>6.0</td>\n      <td>-1.75</td>\n      <td>6.00</td>\n      <td>-1.75</td>\n      <td>6.00</td>\n      <td>6.0</td>\n    </tr>\n    <tr>\n      <th>55873</th>\n      <td>208</td>\n      <td>39.469056</td>\n      <td>-0.375728</td>\n      <td>34</td>\n      <td>1.414789e+09</td>\n      <td>31</td>\n      <td>22</td>\n      <td>119</td>\n      <td>0.0</td>\n      <td>0.0</td>\n      <td>146.3</td>\n      <td>19.3</td>\n      <td>84.0</td>\n      <td>1024.4</td>\n      <td>6.0</td>\n      <td>-6.75</td>\n      <td>3.25</td>\n      <td>-6.75</td>\n      <td>3.25</td>\n      <td>5.0</td>\n    </tr>\n    <tr>\n      <th>55874</th>\n      <td>208</td>\n      <td>39.469056</td>\n      <td>-0.375728</td>\n      <td>34</td>\n      <td>1.414793e+09</td>\n      <td>31</td>\n      <td>23</td>\n      <td>120</td>\n      <td>4.8</td>\n      <td>1.6</td>\n      <td>157.5</td>\n      <td>19.1</td>\n      <td>86.0</td>\n      <td>1024.1</td>\n      <td>7.0</td>\n      <td>-3.50</td>\n      <td>3.00</td>\n      <td>-3.50</td>\n      <td>3.00</td>\n      <td>11.0</td>\n    </tr>\n  </tbody>\n</table>\n<p>42600 rows × 20 columns</p>\n</div>"
     },
     "metadata": {},
     "execution_count": 28
    }
   ],
   "source": [
    "full_data"
   ]
  },
  {
   "cell_type": "code",
   "execution_count": 35,
   "metadata": {},
   "outputs": [],
   "source": [
    "#split X and Y for all\n",
    "x = full_data.iloc[:, 1:-1].values #not just all of 1, as this gives a different shape.\n",
    "y = full_data.iloc[:, -1:].values #now both are 2D arrays"
   ]
  },
  {
   "cell_type": "code",
   "execution_count": 39,
   "metadata": {},
   "outputs": [],
   "source": [
    "from sklearn.model_selection import train_test_split\n"
   ]
  },
  {
   "cell_type": "code",
   "execution_count": 33,
   "metadata": {},
   "outputs": [],
   "source": [
    "from sklearn.preprocessing import StandardScaler\n",
    "sc_X = StandardScaler() #you must create two instances of the object.\n",
    "sc_Y = StandardScaler()"
   ]
  },
  {
   "cell_type": "code",
   "execution_count": 41,
   "metadata": {},
   "outputs": [],
   "source": [
    "x = sc_X.fit_transform(x)\n",
    "\n",
    "y = sc_Y.fit_transform(y)"
   ]
  },
  {
   "cell_type": "code",
   "execution_count": 42,
   "metadata": {},
   "outputs": [],
   "source": [
    "#once youve made everything scalar do a train test split.\n",
    "\n",
    "X_train, X_test, y_train, y_test = train_test_split(x, y, test_size = 0.25, random_state = 42)"
   ]
  },
  {
   "cell_type": "code",
   "execution_count": 43,
   "metadata": {},
   "outputs": [],
   "source": [
    "from sklearn.svm import SVR\n",
    "regressor = SVR(kernel = 'rbf')"
   ]
  },
  {
   "cell_type": "code",
   "execution_count": 46,
   "metadata": {},
   "outputs": [
    {
     "output_type": "execute_result",
     "data": {
      "text/plain": [
       "SVR()"
      ]
     },
     "metadata": {},
     "execution_count": 46
    }
   ],
   "source": [
    "regressor.fit(X_train, y_train)"
   ]
  },
  {
   "cell_type": "code",
   "execution_count": null,
   "metadata": {},
   "outputs": [],
   "source": []
  }
 ]
}