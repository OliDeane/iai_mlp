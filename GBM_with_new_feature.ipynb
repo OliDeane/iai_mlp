{
 "metadata": {
  "language_info": {
   "codemirror_mode": {
    "name": "ipython",
    "version": 3
   },
   "file_extension": ".py",
   "mimetype": "text/x-python",
   "name": "python",
   "nbconvert_exporter": "python",
   "pygments_lexer": "ipython3",
   "version": "3.8.5-final"
  },
  "orig_nbformat": 2,
  "kernelspec": {
   "name": "python3",
   "display_name": "Python 3",
   "language": "python"
  }
 },
 "nbformat": 4,
 "nbformat_minor": 2,
 "cells": [
  {
   "cell_type": "code",
   "execution_count": 1,
   "metadata": {},
   "outputs": [],
   "source": [
    "import pandas as pd\n",
    "import os\n",
    "from sklearn.model_selection import train_test_split"
   ]
  },
  {
   "cell_type": "code",
   "execution_count": 2,
   "metadata": {},
   "outputs": [],
   "source": [
    "#P#ATH = os.getcwd()\n",
    "\n",
    "data = pd.read_csv('/Users/xf20939/Desktop/ML Oli 3/iai_mlp/RLM_full_data.csv')\n",
    "\n"
   ]
  },
  {
   "cell_type": "code",
   "execution_count": 3,
   "metadata": {},
   "outputs": [],
   "source": [
    "data=data.drop(labels=['precipitation.l.m2', 'weekday', 'year', 'month', 'isHoliday'], axis=1)"
   ]
  },
  {
   "cell_type": "code",
   "execution_count": 4,
   "metadata": {},
   "outputs": [
    {
     "output_type": "execute_result",
     "data": {
      "text/plain": [
       "       station   latitude  longitude  numDocks     timestamp  day  hour  \\\n",
       "0          201  39.478178  -0.383541        27  1.412114e+09    1     0   \n",
       "1          201  39.478178  -0.383541        27  1.412118e+09    1     1   \n",
       "2          201  39.478178  -0.383541        27  1.412122e+09    1     2   \n",
       "3          201  39.478178  -0.383541        27  1.412125e+09    1     3   \n",
       "4          201  39.478178  -0.383541        27  1.412129e+09    1     4   \n",
       "...        ...        ...        ...       ...           ...  ...   ...   \n",
       "55870      275  39.450273  -0.333363        15  1.414778e+09   31    19   \n",
       "55871      275  39.450273  -0.333363        15  1.414782e+09   31    20   \n",
       "55872      275  39.450273  -0.333363        15  1.414786e+09   31    21   \n",
       "55873      275  39.450273  -0.333363        15  1.414789e+09   31    22   \n",
       "55874      275  39.450273  -0.333363        15  1.414793e+09   31    23   \n",
       "\n",
       "       weekhour  windMaxSpeed.m.s  windMeanSpeed.m.s  ...  temperature.C  \\\n",
       "0            49              11.3                3.2  ...           21.3   \n",
       "1            50               1.6                0.0  ...           21.1   \n",
       "2            51               1.6                0.0  ...           20.9   \n",
       "3            52               0.0                0.0  ...           20.4   \n",
       "4            53               6.4                3.2  ...           20.3   \n",
       "...         ...               ...                ...  ...            ...   \n",
       "55870       116               9.7                4.8  ...           20.2   \n",
       "55871       117               6.4                1.6  ...           20.2   \n",
       "55872       118               3.2                0.0  ...           20.0   \n",
       "55873       119               0.0                0.0  ...           19.3   \n",
       "55874       120               4.8                1.6  ...           19.1   \n",
       "\n",
       "       relHumidity.HR  airPressure.mb  bikes_3h_ago  \\\n",
       "0                85.0           855.3           2.5   \n",
       "1                86.0          1000.6           4.5   \n",
       "2                86.0           880.6           4.5   \n",
       "3                88.0           859.8           3.0   \n",
       "4                87.0           898.1           2.0   \n",
       "...               ...             ...           ...   \n",
       "55870            80.0          1023.5          15.0   \n",
       "55871            82.0          1023.9          15.0   \n",
       "55872            83.0          1024.0          15.0   \n",
       "55873            84.0          1024.4          15.0   \n",
       "55874            86.0          1024.1          15.0   \n",
       "\n",
       "       full_profile_3h_diff_bikes  full_profile_bikes  \\\n",
       "0                        4.000000            3.833333   \n",
       "1                       -0.666667            2.083333   \n",
       "2                       -2.333333            1.958333   \n",
       "3                       -2.000000            1.666667   \n",
       "4                       -0.583333            1.250000   \n",
       "...                           ...                 ...   \n",
       "55870                   -0.500000            7.000000   \n",
       "55871                    1.750000            8.750000   \n",
       "55872                    3.250000           10.500000   \n",
       "55873                    3.000000           10.000000   \n",
       "55874                    0.250000            9.000000   \n",
       "\n",
       "       short_profile_3h_diff_bikes  short_profile_bikes  bikes  rlm_output  \n",
       "0                         4.000000             3.833333    1.0    5.187067  \n",
       "1                        -0.666667             2.083333    0.0    3.493920  \n",
       "2                        -2.333333             1.958333    0.0    2.491931  \n",
       "3                        -2.000000             1.666667    0.0    1.513042  \n",
       "4                        -0.583333             1.250000    0.0    1.498868  \n",
       "...                            ...                  ...    ...         ...  \n",
       "55870                    -0.500000             7.000000   15.0   12.560897  \n",
       "55871                     1.750000             8.750000   15.0   14.316436  \n",
       "55872                     3.250000            10.500000   15.0   15.636051  \n",
       "55873                     3.000000            10.000000   15.0   15.367948  \n",
       "55874                     0.250000             9.000000   14.0   13.512478  \n",
       "\n",
       "[55875 rows x 21 columns]"
      ],
      "text/html": "<div>\n<style scoped>\n    .dataframe tbody tr th:only-of-type {\n        vertical-align: middle;\n    }\n\n    .dataframe tbody tr th {\n        vertical-align: top;\n    }\n\n    .dataframe thead th {\n        text-align: right;\n    }\n</style>\n<table border=\"1\" class=\"dataframe\">\n  <thead>\n    <tr style=\"text-align: right;\">\n      <th></th>\n      <th>station</th>\n      <th>latitude</th>\n      <th>longitude</th>\n      <th>numDocks</th>\n      <th>timestamp</th>\n      <th>day</th>\n      <th>hour</th>\n      <th>weekhour</th>\n      <th>windMaxSpeed.m.s</th>\n      <th>windMeanSpeed.m.s</th>\n      <th>...</th>\n      <th>temperature.C</th>\n      <th>relHumidity.HR</th>\n      <th>airPressure.mb</th>\n      <th>bikes_3h_ago</th>\n      <th>full_profile_3h_diff_bikes</th>\n      <th>full_profile_bikes</th>\n      <th>short_profile_3h_diff_bikes</th>\n      <th>short_profile_bikes</th>\n      <th>bikes</th>\n      <th>rlm_output</th>\n    </tr>\n  </thead>\n  <tbody>\n    <tr>\n      <th>0</th>\n      <td>201</td>\n      <td>39.478178</td>\n      <td>-0.383541</td>\n      <td>27</td>\n      <td>1.412114e+09</td>\n      <td>1</td>\n      <td>0</td>\n      <td>49</td>\n      <td>11.3</td>\n      <td>3.2</td>\n      <td>...</td>\n      <td>21.3</td>\n      <td>85.0</td>\n      <td>855.3</td>\n      <td>2.5</td>\n      <td>4.000000</td>\n      <td>3.833333</td>\n      <td>4.000000</td>\n      <td>3.833333</td>\n      <td>1.0</td>\n      <td>5.187067</td>\n    </tr>\n    <tr>\n      <th>1</th>\n      <td>201</td>\n      <td>39.478178</td>\n      <td>-0.383541</td>\n      <td>27</td>\n      <td>1.412118e+09</td>\n      <td>1</td>\n      <td>1</td>\n      <td>50</td>\n      <td>1.6</td>\n      <td>0.0</td>\n      <td>...</td>\n      <td>21.1</td>\n      <td>86.0</td>\n      <td>1000.6</td>\n      <td>4.5</td>\n      <td>-0.666667</td>\n      <td>2.083333</td>\n      <td>-0.666667</td>\n      <td>2.083333</td>\n      <td>0.0</td>\n      <td>3.493920</td>\n    </tr>\n    <tr>\n      <th>2</th>\n      <td>201</td>\n      <td>39.478178</td>\n      <td>-0.383541</td>\n      <td>27</td>\n      <td>1.412122e+09</td>\n      <td>1</td>\n      <td>2</td>\n      <td>51</td>\n      <td>1.6</td>\n      <td>0.0</td>\n      <td>...</td>\n      <td>20.9</td>\n      <td>86.0</td>\n      <td>880.6</td>\n      <td>4.5</td>\n      <td>-2.333333</td>\n      <td>1.958333</td>\n      <td>-2.333333</td>\n      <td>1.958333</td>\n      <td>0.0</td>\n      <td>2.491931</td>\n    </tr>\n    <tr>\n      <th>3</th>\n      <td>201</td>\n      <td>39.478178</td>\n      <td>-0.383541</td>\n      <td>27</td>\n      <td>1.412125e+09</td>\n      <td>1</td>\n      <td>3</td>\n      <td>52</td>\n      <td>0.0</td>\n      <td>0.0</td>\n      <td>...</td>\n      <td>20.4</td>\n      <td>88.0</td>\n      <td>859.8</td>\n      <td>3.0</td>\n      <td>-2.000000</td>\n      <td>1.666667</td>\n      <td>-2.000000</td>\n      <td>1.666667</td>\n      <td>0.0</td>\n      <td>1.513042</td>\n    </tr>\n    <tr>\n      <th>4</th>\n      <td>201</td>\n      <td>39.478178</td>\n      <td>-0.383541</td>\n      <td>27</td>\n      <td>1.412129e+09</td>\n      <td>1</td>\n      <td>4</td>\n      <td>53</td>\n      <td>6.4</td>\n      <td>3.2</td>\n      <td>...</td>\n      <td>20.3</td>\n      <td>87.0</td>\n      <td>898.1</td>\n      <td>2.0</td>\n      <td>-0.583333</td>\n      <td>1.250000</td>\n      <td>-0.583333</td>\n      <td>1.250000</td>\n      <td>0.0</td>\n      <td>1.498868</td>\n    </tr>\n    <tr>\n      <th>...</th>\n      <td>...</td>\n      <td>...</td>\n      <td>...</td>\n      <td>...</td>\n      <td>...</td>\n      <td>...</td>\n      <td>...</td>\n      <td>...</td>\n      <td>...</td>\n      <td>...</td>\n      <td>...</td>\n      <td>...</td>\n      <td>...</td>\n      <td>...</td>\n      <td>...</td>\n      <td>...</td>\n      <td>...</td>\n      <td>...</td>\n      <td>...</td>\n      <td>...</td>\n      <td>...</td>\n    </tr>\n    <tr>\n      <th>55870</th>\n      <td>275</td>\n      <td>39.450273</td>\n      <td>-0.333363</td>\n      <td>15</td>\n      <td>1.414778e+09</td>\n      <td>31</td>\n      <td>19</td>\n      <td>116</td>\n      <td>9.7</td>\n      <td>4.8</td>\n      <td>...</td>\n      <td>20.2</td>\n      <td>80.0</td>\n      <td>1023.5</td>\n      <td>15.0</td>\n      <td>-0.500000</td>\n      <td>7.000000</td>\n      <td>-0.500000</td>\n      <td>7.000000</td>\n      <td>15.0</td>\n      <td>12.560897</td>\n    </tr>\n    <tr>\n      <th>55871</th>\n      <td>275</td>\n      <td>39.450273</td>\n      <td>-0.333363</td>\n      <td>15</td>\n      <td>1.414782e+09</td>\n      <td>31</td>\n      <td>20</td>\n      <td>117</td>\n      <td>6.4</td>\n      <td>1.6</td>\n      <td>...</td>\n      <td>20.2</td>\n      <td>82.0</td>\n      <td>1023.9</td>\n      <td>15.0</td>\n      <td>1.750000</td>\n      <td>8.750000</td>\n      <td>1.750000</td>\n      <td>8.750000</td>\n      <td>15.0</td>\n      <td>14.316436</td>\n    </tr>\n    <tr>\n      <th>55872</th>\n      <td>275</td>\n      <td>39.450273</td>\n      <td>-0.333363</td>\n      <td>15</td>\n      <td>1.414786e+09</td>\n      <td>31</td>\n      <td>21</td>\n      <td>118</td>\n      <td>3.2</td>\n      <td>0.0</td>\n      <td>...</td>\n      <td>20.0</td>\n      <td>83.0</td>\n      <td>1024.0</td>\n      <td>15.0</td>\n      <td>3.250000</td>\n      <td>10.500000</td>\n      <td>3.250000</td>\n      <td>10.500000</td>\n      <td>15.0</td>\n      <td>15.636051</td>\n    </tr>\n    <tr>\n      <th>55873</th>\n      <td>275</td>\n      <td>39.450273</td>\n      <td>-0.333363</td>\n      <td>15</td>\n      <td>1.414789e+09</td>\n      <td>31</td>\n      <td>22</td>\n      <td>119</td>\n      <td>0.0</td>\n      <td>0.0</td>\n      <td>...</td>\n      <td>19.3</td>\n      <td>84.0</td>\n      <td>1024.4</td>\n      <td>15.0</td>\n      <td>3.000000</td>\n      <td>10.000000</td>\n      <td>3.000000</td>\n      <td>10.000000</td>\n      <td>15.0</td>\n      <td>15.367948</td>\n    </tr>\n    <tr>\n      <th>55874</th>\n      <td>275</td>\n      <td>39.450273</td>\n      <td>-0.333363</td>\n      <td>15</td>\n      <td>1.414793e+09</td>\n      <td>31</td>\n      <td>23</td>\n      <td>120</td>\n      <td>4.8</td>\n      <td>1.6</td>\n      <td>...</td>\n      <td>19.1</td>\n      <td>86.0</td>\n      <td>1024.1</td>\n      <td>15.0</td>\n      <td>0.250000</td>\n      <td>9.000000</td>\n      <td>0.250000</td>\n      <td>9.000000</td>\n      <td>14.0</td>\n      <td>13.512478</td>\n    </tr>\n  </tbody>\n</table>\n<p>55875 rows × 21 columns</p>\n</div>"
     },
     "metadata": {},
     "execution_count": 4
    }
   ],
   "source": [
    "data"
   ]
  },
  {
   "cell_type": "code",
   "execution_count": 5,
   "metadata": {},
   "outputs": [],
   "source": [
    "data = data.dropna(axis=0)\n"
   ]
  },
  {
   "cell_type": "code",
   "execution_count": 6,
   "metadata": {},
   "outputs": [],
   "source": [
    "#split y and x\n",
    "X_no_rlm = data.iloc[:, :-2]\n",
    "X = pd.concat([X_no_rlm, data.iloc[:, -1]], axis=1)"
   ]
  },
  {
   "cell_type": "code",
   "execution_count": 7,
   "metadata": {},
   "outputs": [],
   "source": [
    "y = data.iloc[:, -2:-1]"
   ]
  },
  {
   "cell_type": "code",
   "execution_count": 47,
   "metadata": {},
   "outputs": [
    {
     "output_type": "execute_result",
     "data": {
      "text/plain": [
       "       bikes\n",
       "0        1.0\n",
       "1        0.0\n",
       "2        0.0\n",
       "3        0.0\n",
       "4        0.0\n",
       "...      ...\n",
       "55870   15.0\n",
       "55871   15.0\n",
       "55872   15.0\n",
       "55873   15.0\n",
       "55874   14.0\n",
       "\n",
       "[55875 rows x 1 columns]"
      ],
      "text/html": "<div>\n<style scoped>\n    .dataframe tbody tr th:only-of-type {\n        vertical-align: middle;\n    }\n\n    .dataframe tbody tr th {\n        vertical-align: top;\n    }\n\n    .dataframe thead th {\n        text-align: right;\n    }\n</style>\n<table border=\"1\" class=\"dataframe\">\n  <thead>\n    <tr style=\"text-align: right;\">\n      <th></th>\n      <th>bikes</th>\n    </tr>\n  </thead>\n  <tbody>\n    <tr>\n      <th>0</th>\n      <td>1.0</td>\n    </tr>\n    <tr>\n      <th>1</th>\n      <td>0.0</td>\n    </tr>\n    <tr>\n      <th>2</th>\n      <td>0.0</td>\n    </tr>\n    <tr>\n      <th>3</th>\n      <td>0.0</td>\n    </tr>\n    <tr>\n      <th>4</th>\n      <td>0.0</td>\n    </tr>\n    <tr>\n      <th>...</th>\n      <td>...</td>\n    </tr>\n    <tr>\n      <th>55870</th>\n      <td>15.0</td>\n    </tr>\n    <tr>\n      <th>55871</th>\n      <td>15.0</td>\n    </tr>\n    <tr>\n      <th>55872</th>\n      <td>15.0</td>\n    </tr>\n    <tr>\n      <th>55873</th>\n      <td>15.0</td>\n    </tr>\n    <tr>\n      <th>55874</th>\n      <td>14.0</td>\n    </tr>\n  </tbody>\n</table>\n<p>55875 rows × 1 columns</p>\n</div>"
     },
     "metadata": {},
     "execution_count": 47
    }
   ],
   "source": [
    "y"
   ]
  },
  {
   "cell_type": "code",
   "execution_count": 8,
   "metadata": {},
   "outputs": [],
   "source": [
    "X_train, X_test, y_train, y_test = train_test_split(X, y, test_size = 0.25, random_state= 42)"
   ]
  },
  {
   "cell_type": "code",
   "execution_count": 9,
   "metadata": {},
   "outputs": [
    {
     "output_type": "stream",
     "name": "stdout",
     "text": [
      "(41906, 20) (41906, 1)\n"
     ]
    }
   ],
   "source": [
    "print(X_train.shape, y_train.shape)"
   ]
  },
  {
   "cell_type": "code",
   "execution_count": 10,
   "metadata": {},
   "outputs": [],
   "source": [
    "# now do the normalization.\n",
    "from sklearn.preprocessing import StandardScaler\n",
    "sc_X = StandardScaler() #you must create two instances of the object.\n",
    "sc_Y = StandardScaler()"
   ]
  },
  {
   "cell_type": "code",
   "execution_count": 11,
   "metadata": {},
   "outputs": [],
   "source": [
    "X_train_scaled = sc_X.fit_transform(X_train)\n",
    "\n",
    "y_train_scaled = sc_Y.fit_transform(y_train)"
   ]
  },
  {
   "cell_type": "code",
   "execution_count": 12,
   "metadata": {},
   "outputs": [],
   "source": [
    "from sklearn.ensemble import GradientBoostingRegressor  #GBM algorithm\n",
    "from sklearn.model_selection import cross_val_score \n",
    "from sklearn.model_selection import GridSearchCV   #Perforing grid search\n",
    "from sklearn import metrics"
   ]
  },
  {
   "cell_type": "code",
   "execution_count": 13,
   "metadata": {},
   "outputs": [],
   "source": [
    "#create instance of our GB model\n",
    "gbm_tuned = GradientBoostingRegressor(learning_rate=0.01, n_estimators=1400,max_depth=7, min_samples_split=600,min_samples_leaf=30, subsample=0.6, random_state=10, max_features='sqrt')"
   ]
  },
  {
   "cell_type": "code",
   "execution_count": null,
   "metadata": {},
   "outputs": [],
   "source": [
    "gbm_tuned.fit(X_train_scaled, y_train_scaled )"
   ]
  },
  {
   "cell_type": "code",
   "execution_count": null,
   "metadata": {},
   "outputs": [],
   "source": [
    "X_train_scaled.head"
   ]
  }
 ]
}