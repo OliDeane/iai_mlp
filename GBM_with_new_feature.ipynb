{
 "metadata": {
  "language_info": {
   "codemirror_mode": {
    "name": "ipython",
    "version": 3
   },
   "file_extension": ".py",
   "mimetype": "text/x-python",
   "name": "python",
   "nbconvert_exporter": "python",
   "pygments_lexer": "ipython3",
   "version": "3.8.5-final"
  },
  "orig_nbformat": 2,
  "kernelspec": {
   "name": "python3",
   "display_name": "Python 3",
   "language": "python"
  }
 },
 "nbformat": 4,
 "nbformat_minor": 2,
 "cells": [
  {
   "cell_type": "code",
   "execution_count": 1,
   "metadata": {},
   "outputs": [],
   "source": [
    "import pandas as pd\n",
    "import os\n",
    "from sklearn.model_selection import train_test_split"
   ]
  },
  {
   "cell_type": "code",
   "execution_count": 2,
   "metadata": {},
   "outputs": [],
   "source": [
    "#P#ATH = os.getcwd()\n",
    "\n",
    "data = pd.read_csv('/Users/xf20939/Desktop/ML Oli 3/iai_mlp/RLM_full_data.csv')\n",
    "\n"
   ]
  },
  {
   "cell_type": "code",
   "execution_count": 3,
   "metadata": {},
   "outputs": [],
   "source": [
    "data=data.drop(labels=['precipitation.l.m2', 'weekday', 'year', 'month', 'isHoliday'], axis=1)"
   ]
  },
  {
   "cell_type": "code",
   "execution_count": 4,
   "metadata": {},
   "outputs": [
    {
     "output_type": "execute_result",
     "data": {
      "text/plain": [
       "       station   latitude  longitude  numDocks     timestamp  day  hour  \\\n",
       "0          201  39.478178  -0.383541        27  1.412114e+09    1     0   \n",
       "1          201  39.478178  -0.383541        27  1.412118e+09    1     1   \n",
       "2          201  39.478178  -0.383541        27  1.412122e+09    1     2   \n",
       "3          201  39.478178  -0.383541        27  1.412125e+09    1     3   \n",
       "4          201  39.478178  -0.383541        27  1.412129e+09    1     4   \n",
       "...        ...        ...        ...       ...           ...  ...   ...   \n",
       "55870      275  39.450273  -0.333363        15  1.414778e+09   31    19   \n",
       "55871      275  39.450273  -0.333363        15  1.414782e+09   31    20   \n",
       "55872      275  39.450273  -0.333363        15  1.414786e+09   31    21   \n",
       "55873      275  39.450273  -0.333363        15  1.414789e+09   31    22   \n",
       "55874      275  39.450273  -0.333363        15  1.414793e+09   31    23   \n",
       "\n",
       "       weekhour  windMaxSpeed.m.s  windMeanSpeed.m.s  ...  temperature.C  \\\n",
       "0            49              11.3                3.2  ...           21.3   \n",
       "1            50               1.6                0.0  ...           21.1   \n",
       "2            51               1.6                0.0  ...           20.9   \n",
       "3            52               0.0                0.0  ...           20.4   \n",
       "4            53               6.4                3.2  ...           20.3   \n",
       "...         ...               ...                ...  ...            ...   \n",
       "55870       116               9.7                4.8  ...           20.2   \n",
       "55871       117               6.4                1.6  ...           20.2   \n",
       "55872       118               3.2                0.0  ...           20.0   \n",
       "55873       119               0.0                0.0  ...           19.3   \n",
       "55874       120               4.8                1.6  ...           19.1   \n",
       "\n",
       "       relHumidity.HR  airPressure.mb  bikes_3h_ago  \\\n",
       "0                85.0           855.3           2.5   \n",
       "1                86.0          1000.6           4.5   \n",
       "2                86.0           880.6           4.5   \n",
       "3                88.0           859.8           3.0   \n",
       "4                87.0           898.1           2.0   \n",
       "...               ...             ...           ...   \n",
       "55870            80.0          1023.5          15.0   \n",
       "55871            82.0          1023.9          15.0   \n",
       "55872            83.0          1024.0          15.0   \n",
       "55873            84.0          1024.4          15.0   \n",
       "55874            86.0          1024.1          15.0   \n",
       "\n",
       "       full_profile_3h_diff_bikes  full_profile_bikes  \\\n",
       "0                        4.000000            3.833333   \n",
       "1                       -0.666667            2.083333   \n",
       "2                       -2.333333            1.958333   \n",
       "3                       -2.000000            1.666667   \n",
       "4                       -0.583333            1.250000   \n",
       "...                           ...                 ...   \n",
       "55870                   -0.500000            7.000000   \n",
       "55871                    1.750000            8.750000   \n",
       "55872                    3.250000           10.500000   \n",
       "55873                    3.000000           10.000000   \n",
       "55874                    0.250000            9.000000   \n",
       "\n",
       "       short_profile_3h_diff_bikes  short_profile_bikes  bikes  rlm_output  \n",
       "0                         4.000000             3.833333    1.0    5.187067  \n",
       "1                        -0.666667             2.083333    0.0    3.493920  \n",
       "2                        -2.333333             1.958333    0.0    2.491931  \n",
       "3                        -2.000000             1.666667    0.0    1.513042  \n",
       "4                        -0.583333             1.250000    0.0    1.498868  \n",
       "...                            ...                  ...    ...         ...  \n",
       "55870                    -0.500000             7.000000   15.0   12.560897  \n",
       "55871                     1.750000             8.750000   15.0   14.316436  \n",
       "55872                     3.250000            10.500000   15.0   15.636051  \n",
       "55873                     3.000000            10.000000   15.0   15.367948  \n",
       "55874                     0.250000             9.000000   14.0   13.512478  \n",
       "\n",
       "[55875 rows x 21 columns]"
      ],
      "text/html": "<div>\n<style scoped>\n    .dataframe tbody tr th:only-of-type {\n        vertical-align: middle;\n    }\n\n    .dataframe tbody tr th {\n        vertical-align: top;\n    }\n\n    .dataframe thead th {\n        text-align: right;\n    }\n</style>\n<table border=\"1\" class=\"dataframe\">\n  <thead>\n    <tr style=\"text-align: right;\">\n      <th></th>\n      <th>station</th>\n      <th>latitude</th>\n      <th>longitude</th>\n      <th>numDocks</th>\n      <th>timestamp</th>\n      <th>day</th>\n      <th>hour</th>\n      <th>weekhour</th>\n      <th>windMaxSpeed.m.s</th>\n      <th>windMeanSpeed.m.s</th>\n      <th>...</th>\n      <th>temperature.C</th>\n      <th>relHumidity.HR</th>\n      <th>airPressure.mb</th>\n      <th>bikes_3h_ago</th>\n      <th>full_profile_3h_diff_bikes</th>\n      <th>full_profile_bikes</th>\n      <th>short_profile_3h_diff_bikes</th>\n      <th>short_profile_bikes</th>\n      <th>bikes</th>\n      <th>rlm_output</th>\n    </tr>\n  </thead>\n  <tbody>\n    <tr>\n      <th>0</th>\n      <td>201</td>\n      <td>39.478178</td>\n      <td>-0.383541</td>\n      <td>27</td>\n      <td>1.412114e+09</td>\n      <td>1</td>\n      <td>0</td>\n      <td>49</td>\n      <td>11.3</td>\n      <td>3.2</td>\n      <td>...</td>\n      <td>21.3</td>\n      <td>85.0</td>\n      <td>855.3</td>\n      <td>2.5</td>\n      <td>4.000000</td>\n      <td>3.833333</td>\n      <td>4.000000</td>\n      <td>3.833333</td>\n      <td>1.0</td>\n      <td>5.187067</td>\n    </tr>\n    <tr>\n      <th>1</th>\n      <td>201</td>\n      <td>39.478178</td>\n      <td>-0.383541</td>\n      <td>27</td>\n      <td>1.412118e+09</td>\n      <td>1</td>\n      <td>1</td>\n      <td>50</td>\n      <td>1.6</td>\n      <td>0.0</td>\n      <td>...</td>\n      <td>21.1</td>\n      <td>86.0</td>\n      <td>1000.6</td>\n      <td>4.5</td>\n      <td>-0.666667</td>\n      <td>2.083333</td>\n      <td>-0.666667</td>\n      <td>2.083333</td>\n      <td>0.0</td>\n      <td>3.493920</td>\n    </tr>\n    <tr>\n      <th>2</th>\n      <td>201</td>\n      <td>39.478178</td>\n      <td>-0.383541</td>\n      <td>27</td>\n      <td>1.412122e+09</td>\n      <td>1</td>\n      <td>2</td>\n      <td>51</td>\n      <td>1.6</td>\n      <td>0.0</td>\n      <td>...</td>\n      <td>20.9</td>\n      <td>86.0</td>\n      <td>880.6</td>\n      <td>4.5</td>\n      <td>-2.333333</td>\n      <td>1.958333</td>\n      <td>-2.333333</td>\n      <td>1.958333</td>\n      <td>0.0</td>\n      <td>2.491931</td>\n    </tr>\n    <tr>\n      <th>3</th>\n      <td>201</td>\n      <td>39.478178</td>\n      <td>-0.383541</td>\n      <td>27</td>\n      <td>1.412125e+09</td>\n      <td>1</td>\n      <td>3</td>\n      <td>52</td>\n      <td>0.0</td>\n      <td>0.0</td>\n      <td>...</td>\n      <td>20.4</td>\n      <td>88.0</td>\n      <td>859.8</td>\n      <td>3.0</td>\n      <td>-2.000000</td>\n      <td>1.666667</td>\n      <td>-2.000000</td>\n      <td>1.666667</td>\n      <td>0.0</td>\n      <td>1.513042</td>\n    </tr>\n    <tr>\n      <th>4</th>\n      <td>201</td>\n      <td>39.478178</td>\n      <td>-0.383541</td>\n      <td>27</td>\n      <td>1.412129e+09</td>\n      <td>1</td>\n      <td>4</td>\n      <td>53</td>\n      <td>6.4</td>\n      <td>3.2</td>\n      <td>...</td>\n      <td>20.3</td>\n      <td>87.0</td>\n      <td>898.1</td>\n      <td>2.0</td>\n      <td>-0.583333</td>\n      <td>1.250000</td>\n      <td>-0.583333</td>\n      <td>1.250000</td>\n      <td>0.0</td>\n      <td>1.498868</td>\n    </tr>\n    <tr>\n      <th>...</th>\n      <td>...</td>\n      <td>...</td>\n      <td>...</td>\n      <td>...</td>\n      <td>...</td>\n      <td>...</td>\n      <td>...</td>\n      <td>...</td>\n      <td>...</td>\n      <td>...</td>\n      <td>...</td>\n      <td>...</td>\n      <td>...</td>\n      <td>...</td>\n      <td>...</td>\n      <td>...</td>\n      <td>...</td>\n      <td>...</td>\n      <td>...</td>\n      <td>...</td>\n      <td>...</td>\n    </tr>\n    <tr>\n      <th>55870</th>\n      <td>275</td>\n      <td>39.450273</td>\n      <td>-0.333363</td>\n      <td>15</td>\n      <td>1.414778e+09</td>\n      <td>31</td>\n      <td>19</td>\n      <td>116</td>\n      <td>9.7</td>\n      <td>4.8</td>\n      <td>...</td>\n      <td>20.2</td>\n      <td>80.0</td>\n      <td>1023.5</td>\n      <td>15.0</td>\n      <td>-0.500000</td>\n      <td>7.000000</td>\n      <td>-0.500000</td>\n      <td>7.000000</td>\n      <td>15.0</td>\n      <td>12.560897</td>\n    </tr>\n    <tr>\n      <th>55871</th>\n      <td>275</td>\n      <td>39.450273</td>\n      <td>-0.333363</td>\n      <td>15</td>\n      <td>1.414782e+09</td>\n      <td>31</td>\n      <td>20</td>\n      <td>117</td>\n      <td>6.4</td>\n      <td>1.6</td>\n      <td>...</td>\n      <td>20.2</td>\n      <td>82.0</td>\n      <td>1023.9</td>\n      <td>15.0</td>\n      <td>1.750000</td>\n      <td>8.750000</td>\n      <td>1.750000</td>\n      <td>8.750000</td>\n      <td>15.0</td>\n      <td>14.316436</td>\n    </tr>\n    <tr>\n      <th>55872</th>\n      <td>275</td>\n      <td>39.450273</td>\n      <td>-0.333363</td>\n      <td>15</td>\n      <td>1.414786e+09</td>\n      <td>31</td>\n      <td>21</td>\n      <td>118</td>\n      <td>3.2</td>\n      <td>0.0</td>\n      <td>...</td>\n      <td>20.0</td>\n      <td>83.0</td>\n      <td>1024.0</td>\n      <td>15.0</td>\n      <td>3.250000</td>\n      <td>10.500000</td>\n      <td>3.250000</td>\n      <td>10.500000</td>\n      <td>15.0</td>\n      <td>15.636051</td>\n    </tr>\n    <tr>\n      <th>55873</th>\n      <td>275</td>\n      <td>39.450273</td>\n      <td>-0.333363</td>\n      <td>15</td>\n      <td>1.414789e+09</td>\n      <td>31</td>\n      <td>22</td>\n      <td>119</td>\n      <td>0.0</td>\n      <td>0.0</td>\n      <td>...</td>\n      <td>19.3</td>\n      <td>84.0</td>\n      <td>1024.4</td>\n      <td>15.0</td>\n      <td>3.000000</td>\n      <td>10.000000</td>\n      <td>3.000000</td>\n      <td>10.000000</td>\n      <td>15.0</td>\n      <td>15.367948</td>\n    </tr>\n    <tr>\n      <th>55874</th>\n      <td>275</td>\n      <td>39.450273</td>\n      <td>-0.333363</td>\n      <td>15</td>\n      <td>1.414793e+09</td>\n      <td>31</td>\n      <td>23</td>\n      <td>120</td>\n      <td>4.8</td>\n      <td>1.6</td>\n      <td>...</td>\n      <td>19.1</td>\n      <td>86.0</td>\n      <td>1024.1</td>\n      <td>15.0</td>\n      <td>0.250000</td>\n      <td>9.000000</td>\n      <td>0.250000</td>\n      <td>9.000000</td>\n      <td>14.0</td>\n      <td>13.512478</td>\n    </tr>\n  </tbody>\n</table>\n<p>55875 rows × 21 columns</p>\n</div>"
     },
     "metadata": {},
     "execution_count": 4
    }
   ],
   "source": [
    "data"
   ]
  },
  {
   "cell_type": "code",
   "execution_count": 5,
   "metadata": {},
   "outputs": [],
   "source": [
    "data = data.dropna(axis=0)\n"
   ]
  },
  {
   "cell_type": "code",
   "execution_count": 6,
   "metadata": {},
   "outputs": [],
   "source": [
    "#split y and x\n",
    "X_no_rlm = data.iloc[:, :-2]\n",
    "X = pd.concat([X_no_rlm, data.iloc[:, -1]], axis=1)"
   ]
  },
  {
   "cell_type": "code",
   "execution_count": 8,
   "metadata": {},
   "outputs": [],
   "source": [
    "y = data.iloc[:, -2:-1]"
   ]
  },
  {
   "cell_type": "code",
   "execution_count": 9,
   "metadata": {},
   "outputs": [
    {
     "output_type": "execute_result",
     "data": {
      "text/plain": [
       "       bikes\n",
       "0        1.0\n",
       "1        0.0\n",
       "2        0.0\n",
       "3        0.0\n",
       "4        0.0\n",
       "...      ...\n",
       "55870   15.0\n",
       "55871   15.0\n",
       "55872   15.0\n",
       "55873   15.0\n",
       "55874   14.0\n",
       "\n",
       "[55875 rows x 1 columns]"
      ],
      "text/html": "<div>\n<style scoped>\n    .dataframe tbody tr th:only-of-type {\n        vertical-align: middle;\n    }\n\n    .dataframe tbody tr th {\n        vertical-align: top;\n    }\n\n    .dataframe thead th {\n        text-align: right;\n    }\n</style>\n<table border=\"1\" class=\"dataframe\">\n  <thead>\n    <tr style=\"text-align: right;\">\n      <th></th>\n      <th>bikes</th>\n    </tr>\n  </thead>\n  <tbody>\n    <tr>\n      <th>0</th>\n      <td>1.0</td>\n    </tr>\n    <tr>\n      <th>1</th>\n      <td>0.0</td>\n    </tr>\n    <tr>\n      <th>2</th>\n      <td>0.0</td>\n    </tr>\n    <tr>\n      <th>3</th>\n      <td>0.0</td>\n    </tr>\n    <tr>\n      <th>4</th>\n      <td>0.0</td>\n    </tr>\n    <tr>\n      <th>...</th>\n      <td>...</td>\n    </tr>\n    <tr>\n      <th>55870</th>\n      <td>15.0</td>\n    </tr>\n    <tr>\n      <th>55871</th>\n      <td>15.0</td>\n    </tr>\n    <tr>\n      <th>55872</th>\n      <td>15.0</td>\n    </tr>\n    <tr>\n      <th>55873</th>\n      <td>15.0</td>\n    </tr>\n    <tr>\n      <th>55874</th>\n      <td>14.0</td>\n    </tr>\n  </tbody>\n</table>\n<p>55875 rows × 1 columns</p>\n</div>"
     },
     "metadata": {},
     "execution_count": 9
    }
   ],
   "source": [
    "y"
   ]
  },
  {
   "cell_type": "code",
   "execution_count": 10,
   "metadata": {},
   "outputs": [],
   "source": [
    "X_train, X_test, y_train, y_test = train_test_split(X, y, test_size = 0.25, random_state= 42)"
   ]
  },
  {
   "cell_type": "code",
   "execution_count": 11,
   "metadata": {},
   "outputs": [
    {
     "output_type": "stream",
     "name": "stdout",
     "text": [
      "(41906, 20) (41906, 1)\n"
     ]
    }
   ],
   "source": [
    "print(X_train.shape, y_train.shape)"
   ]
  },
  {
   "cell_type": "code",
   "execution_count": 12,
   "metadata": {},
   "outputs": [],
   "source": [
    "# now do the normalization.\n",
    "from sklearn.preprocessing import StandardScaler\n",
    "sc_X = StandardScaler() #you must create two instances of the object.\n",
    "sc_Y = StandardScaler()"
   ]
  },
  {
   "cell_type": "code",
   "execution_count": 13,
   "metadata": {},
   "outputs": [],
   "source": [
    "X_train_scaled = sc_X.fit_transform(X_train)\n",
    "\n",
    "y_train_scaled = sc_Y.fit_transform(y_train)"
   ]
  },
  {
   "cell_type": "code",
   "execution_count": 14,
   "metadata": {},
   "outputs": [],
   "source": [
    "from sklearn.ensemble import GradientBoostingRegressor  #GBM algorithm\n",
    "from sklearn.model_selection import cross_val_score \n",
    "from sklearn.model_selection import GridSearchCV   #Perforing grid search\n",
    "from sklearn import metrics"
   ]
  },
  {
   "cell_type": "code",
   "execution_count": 17,
   "metadata": {},
   "outputs": [
    {
     "output_type": "execute_result",
     "data": {
      "text/plain": [
       "             0         1         2         3         4         5         6   \\\n",
       "0     -0.416774  0.043566  1.503215  0.081472 -0.817728 -0.783195 -1.084480   \n",
       "1      0.229919 -0.571814  1.864905 -0.094507 -1.073445 -1.118499  1.369575   \n",
       "2     -1.294429  0.043105 -0.575929 -0.094507  1.381437  1.340398  1.225219   \n",
       "3     -0.509159 -2.064590  0.229487 -0.798419 -1.129238 -1.118499 -0.362699   \n",
       "4      1.015189 -0.167642 -1.136840 -0.446463  0.395765  0.446253 -1.517548   \n",
       "...         ...       ...       ...       ...       ...       ...       ...   \n",
       "41901  1.061382 -0.024948 -1.061039 -0.798419 -1.580230 -1.565572 -0.507055   \n",
       "41902  1.615690  1.770459 -1.430955 -0.622441  1.539516  1.563934 -0.795767   \n",
       "41903  0.645650  1.037904 -1.225456 -0.798419 -0.971158 -1.006731  1.080863   \n",
       "41904 -1.663968  0.676187 -0.297573 -0.798419 -1.194330 -1.230267  1.080863   \n",
       "41905 -0.740121 -0.748918  1.084165  0.081472 -1.031601 -1.006731 -0.795767   \n",
       "\n",
       "             7         8         9         10        11        12        13  \\\n",
       "0     -0.163266 -0.948049 -1.026699  0.371302 -0.645030  0.600027  0.184479   \n",
       "1     -1.345392 -0.578047 -0.676306  1.407036  0.732356  0.540110  0.165668   \n",
       "2     -0.851048 -0.763048 -1.026699 -1.959098 -0.400161  0.899613  0.339663   \n",
       "3     -1.603311 -0.948049 -1.026699  0.630236 -0.430770  1.079364  0.233855   \n",
       "4     -1.775257 -1.133050 -1.026699  0.112369 -0.859290  1.259116  0.539521   \n",
       "...         ...       ...       ...       ...       ...       ...       ...   \n",
       "41901 -0.077293 -0.578047 -0.325913 -0.146565 -0.736856  1.199198  1.068557   \n",
       "41902 -0.120279 -0.948049 -1.026699 -0.146565 -1.655113  1.498784  0.440767   \n",
       "41903 -0.872542  1.283528  1.447954  1.665969  1.405745  0.000856  0.158615   \n",
       "41904  1.706644  0.728525  0.374874 -1.441232  0.181402  0.600027  0.403147   \n",
       "41905 -1.151953  0.913526  1.447954  0.371302 -0.400161 -0.718149  0.182127   \n",
       "\n",
       "             14        15        16        17        18        19  \n",
       "0      0.090623  0.219640  2.142075  0.219640  2.142075  0.718163  \n",
       "1      0.168645 -0.431410  0.328218 -0.431410  0.328218  0.018664  \n",
       "2     -0.533553 -0.359071 -1.202224 -0.359071 -1.202224 -0.894359  \n",
       "3      0.714799 -0.069716  0.781683 -0.069716  0.781683  0.740017  \n",
       "4     -0.689597  1.196215  0.951732  1.196215  0.951732  0.238442  \n",
       "...         ...       ...       ...       ...       ...       ...  \n",
       "41901 -0.377509 -0.467580 -0.968406 -0.467580 -0.968406 -0.758520  \n",
       "41902 -0.377509  0.002623  0.058974  0.002623  0.058974 -0.280149  \n",
       "41903 -0.845641  0.111132 -0.748759  0.111132 -0.748759 -0.820949  \n",
       "41904 -1.079707  0.436657 -0.918808  0.436657 -0.918808 -0.898469  \n",
       "41905  1.963150 -0.286732  1.716953 -0.286732  1.716953  1.877160  \n",
       "\n",
       "[41906 rows x 20 columns]"
      ],
      "text/html": "<div>\n<style scoped>\n    .dataframe tbody tr th:only-of-type {\n        vertical-align: middle;\n    }\n\n    .dataframe tbody tr th {\n        vertical-align: top;\n    }\n\n    .dataframe thead th {\n        text-align: right;\n    }\n</style>\n<table border=\"1\" class=\"dataframe\">\n  <thead>\n    <tr style=\"text-align: right;\">\n      <th></th>\n      <th>0</th>\n      <th>1</th>\n      <th>2</th>\n      <th>3</th>\n      <th>4</th>\n      <th>5</th>\n      <th>6</th>\n      <th>7</th>\n      <th>8</th>\n      <th>9</th>\n      <th>10</th>\n      <th>11</th>\n      <th>12</th>\n      <th>13</th>\n      <th>14</th>\n      <th>15</th>\n      <th>16</th>\n      <th>17</th>\n      <th>18</th>\n      <th>19</th>\n    </tr>\n  </thead>\n  <tbody>\n    <tr>\n      <th>0</th>\n      <td>-0.416774</td>\n      <td>0.043566</td>\n      <td>1.503215</td>\n      <td>0.081472</td>\n      <td>-0.817728</td>\n      <td>-0.783195</td>\n      <td>-1.084480</td>\n      <td>-0.163266</td>\n      <td>-0.948049</td>\n      <td>-1.026699</td>\n      <td>0.371302</td>\n      <td>-0.645030</td>\n      <td>0.600027</td>\n      <td>0.184479</td>\n      <td>0.090623</td>\n      <td>0.219640</td>\n      <td>2.142075</td>\n      <td>0.219640</td>\n      <td>2.142075</td>\n      <td>0.718163</td>\n    </tr>\n    <tr>\n      <th>1</th>\n      <td>0.229919</td>\n      <td>-0.571814</td>\n      <td>1.864905</td>\n      <td>-0.094507</td>\n      <td>-1.073445</td>\n      <td>-1.118499</td>\n      <td>1.369575</td>\n      <td>-1.345392</td>\n      <td>-0.578047</td>\n      <td>-0.676306</td>\n      <td>1.407036</td>\n      <td>0.732356</td>\n      <td>0.540110</td>\n      <td>0.165668</td>\n      <td>0.168645</td>\n      <td>-0.431410</td>\n      <td>0.328218</td>\n      <td>-0.431410</td>\n      <td>0.328218</td>\n      <td>0.018664</td>\n    </tr>\n    <tr>\n      <th>2</th>\n      <td>-1.294429</td>\n      <td>0.043105</td>\n      <td>-0.575929</td>\n      <td>-0.094507</td>\n      <td>1.381437</td>\n      <td>1.340398</td>\n      <td>1.225219</td>\n      <td>-0.851048</td>\n      <td>-0.763048</td>\n      <td>-1.026699</td>\n      <td>-1.959098</td>\n      <td>-0.400161</td>\n      <td>0.899613</td>\n      <td>0.339663</td>\n      <td>-0.533553</td>\n      <td>-0.359071</td>\n      <td>-1.202224</td>\n      <td>-0.359071</td>\n      <td>-1.202224</td>\n      <td>-0.894359</td>\n    </tr>\n    <tr>\n      <th>3</th>\n      <td>-0.509159</td>\n      <td>-2.064590</td>\n      <td>0.229487</td>\n      <td>-0.798419</td>\n      <td>-1.129238</td>\n      <td>-1.118499</td>\n      <td>-0.362699</td>\n      <td>-1.603311</td>\n      <td>-0.948049</td>\n      <td>-1.026699</td>\n      <td>0.630236</td>\n      <td>-0.430770</td>\n      <td>1.079364</td>\n      <td>0.233855</td>\n      <td>0.714799</td>\n      <td>-0.069716</td>\n      <td>0.781683</td>\n      <td>-0.069716</td>\n      <td>0.781683</td>\n      <td>0.740017</td>\n    </tr>\n    <tr>\n      <th>4</th>\n      <td>1.015189</td>\n      <td>-0.167642</td>\n      <td>-1.136840</td>\n      <td>-0.446463</td>\n      <td>0.395765</td>\n      <td>0.446253</td>\n      <td>-1.517548</td>\n      <td>-1.775257</td>\n      <td>-1.133050</td>\n      <td>-1.026699</td>\n      <td>0.112369</td>\n      <td>-0.859290</td>\n      <td>1.259116</td>\n      <td>0.539521</td>\n      <td>-0.689597</td>\n      <td>1.196215</td>\n      <td>0.951732</td>\n      <td>1.196215</td>\n      <td>0.951732</td>\n      <td>0.238442</td>\n    </tr>\n    <tr>\n      <th>...</th>\n      <td>...</td>\n      <td>...</td>\n      <td>...</td>\n      <td>...</td>\n      <td>...</td>\n      <td>...</td>\n      <td>...</td>\n      <td>...</td>\n      <td>...</td>\n      <td>...</td>\n      <td>...</td>\n      <td>...</td>\n      <td>...</td>\n      <td>...</td>\n      <td>...</td>\n      <td>...</td>\n      <td>...</td>\n      <td>...</td>\n      <td>...</td>\n      <td>...</td>\n    </tr>\n    <tr>\n      <th>41901</th>\n      <td>1.061382</td>\n      <td>-0.024948</td>\n      <td>-1.061039</td>\n      <td>-0.798419</td>\n      <td>-1.580230</td>\n      <td>-1.565572</td>\n      <td>-0.507055</td>\n      <td>-0.077293</td>\n      <td>-0.578047</td>\n      <td>-0.325913</td>\n      <td>-0.146565</td>\n      <td>-0.736856</td>\n      <td>1.199198</td>\n      <td>1.068557</td>\n      <td>-0.377509</td>\n      <td>-0.467580</td>\n      <td>-0.968406</td>\n      <td>-0.467580</td>\n      <td>-0.968406</td>\n      <td>-0.758520</td>\n    </tr>\n    <tr>\n      <th>41902</th>\n      <td>1.615690</td>\n      <td>1.770459</td>\n      <td>-1.430955</td>\n      <td>-0.622441</td>\n      <td>1.539516</td>\n      <td>1.563934</td>\n      <td>-0.795767</td>\n      <td>-0.120279</td>\n      <td>-0.948049</td>\n      <td>-1.026699</td>\n      <td>-0.146565</td>\n      <td>-1.655113</td>\n      <td>1.498784</td>\n      <td>0.440767</td>\n      <td>-0.377509</td>\n      <td>0.002623</td>\n      <td>0.058974</td>\n      <td>0.002623</td>\n      <td>0.058974</td>\n      <td>-0.280149</td>\n    </tr>\n    <tr>\n      <th>41903</th>\n      <td>0.645650</td>\n      <td>1.037904</td>\n      <td>-1.225456</td>\n      <td>-0.798419</td>\n      <td>-0.971158</td>\n      <td>-1.006731</td>\n      <td>1.080863</td>\n      <td>-0.872542</td>\n      <td>1.283528</td>\n      <td>1.447954</td>\n      <td>1.665969</td>\n      <td>1.405745</td>\n      <td>0.000856</td>\n      <td>0.158615</td>\n      <td>-0.845641</td>\n      <td>0.111132</td>\n      <td>-0.748759</td>\n      <td>0.111132</td>\n      <td>-0.748759</td>\n      <td>-0.820949</td>\n    </tr>\n    <tr>\n      <th>41904</th>\n      <td>-1.663968</td>\n      <td>0.676187</td>\n      <td>-0.297573</td>\n      <td>-0.798419</td>\n      <td>-1.194330</td>\n      <td>-1.230267</td>\n      <td>1.080863</td>\n      <td>1.706644</td>\n      <td>0.728525</td>\n      <td>0.374874</td>\n      <td>-1.441232</td>\n      <td>0.181402</td>\n      <td>0.600027</td>\n      <td>0.403147</td>\n      <td>-1.079707</td>\n      <td>0.436657</td>\n      <td>-0.918808</td>\n      <td>0.436657</td>\n      <td>-0.918808</td>\n      <td>-0.898469</td>\n    </tr>\n    <tr>\n      <th>41905</th>\n      <td>-0.740121</td>\n      <td>-0.748918</td>\n      <td>1.084165</td>\n      <td>0.081472</td>\n      <td>-1.031601</td>\n      <td>-1.006731</td>\n      <td>-0.795767</td>\n      <td>-1.151953</td>\n      <td>0.913526</td>\n      <td>1.447954</td>\n      <td>0.371302</td>\n      <td>-0.400161</td>\n      <td>-0.718149</td>\n      <td>0.182127</td>\n      <td>1.963150</td>\n      <td>-0.286732</td>\n      <td>1.716953</td>\n      <td>-0.286732</td>\n      <td>1.716953</td>\n      <td>1.877160</td>\n    </tr>\n  </tbody>\n</table>\n<p>41906 rows × 20 columns</p>\n</div>"
     },
     "metadata": {},
     "execution_count": 17
    }
   ],
   "source": [
    "X_train_scaled= pd.DataFrame(X_train_scaled)\n"
   ]
  },
  {
   "cell_type": "code",
   "execution_count": 18,
   "metadata": {},
   "outputs": [],
   "source": [
    "#create instance of our GB model\n",
    "gbm_tuned = GradientBoostingRegressor(learning_rate=0.01, n_estimators=1400,max_depth=7, min_samples_split=600,min_samples_leaf=30, subsample=0.6, random_state=10, max_features='sqrt')"
   ]
  },
  {
   "cell_type": "code",
   "execution_count": 19,
   "metadata": {},
   "outputs": [
    {
     "output_type": "execute_result",
     "data": {
      "text/plain": [
       "GradientBoostingRegressor(learning_rate=0.01, max_depth=7, max_features='sqrt',\n",
       "                          min_samples_leaf=30, min_samples_split=600,\n",
       "                          n_estimators=1400, random_state=10, subsample=0.6)"
      ]
     },
     "metadata": {},
     "execution_count": 19
    }
   ],
   "source": [
    "gbm_tuned.fit(X_train_scaled, y_train_scaled )"
   ]
  },
  {
   "cell_type": "code",
   "execution_count": 21,
   "metadata": {},
   "outputs": [],
   "source": [
    "predictions = sc_Y.inverse_transform(gbm_tuned.predict(sc_X.transform(X_test)))"
   ]
  },
  {
   "cell_type": "code",
   "execution_count": 22,
   "metadata": {},
   "outputs": [
    {
     "output_type": "execute_result",
     "data": {
      "text/plain": [
       "array([13.42185174, 12.78687242,  0.63966529, ..., 14.49585668,\n",
       "       28.20355933,  0.44997352])"
      ]
     },
     "metadata": {},
     "execution_count": 22
    }
   ],
   "source": [
    "predictions"
   ]
  },
  {
   "cell_type": "code",
   "execution_count": 23,
   "metadata": {},
   "outputs": [
    {
     "output_type": "execute_result",
     "data": {
      "text/plain": [
       "(13969,)"
      ]
     },
     "metadata": {},
     "execution_count": 23
    }
   ],
   "source": [
    "predictions.shape"
   ]
  },
  {
   "cell_type": "code",
   "execution_count": 26,
   "metadata": {},
   "outputs": [],
   "source": [
    "from sklearn.metrics import mean_absolute_error as MAE"
   ]
  },
  {
   "cell_type": "code",
   "execution_count": 27,
   "metadata": {},
   "outputs": [],
   "source": [
    "evaluation = MAE(predictions, y_test)"
   ]
  },
  {
   "cell_type": "code",
   "execution_count": 28,
   "metadata": {},
   "outputs": [
    {
     "output_type": "execute_result",
     "data": {
      "text/plain": [
       "2.2491376662750837"
      ]
     },
     "metadata": {},
     "execution_count": 28
    }
   ],
   "source": [
    "evaluation"
   ]
  },
  {
   "cell_type": "code",
   "execution_count": 29,
   "metadata": {},
   "outputs": [],
   "source": [
    "from sklearn.svm import SVR\n",
    "regressor = SVR(kernel = 'rbf')"
   ]
  },
  {
   "cell_type": "code",
   "execution_count": 30,
   "metadata": {},
   "outputs": [
    {
     "output_type": "execute_result",
     "data": {
      "text/plain": [
       "SVR()"
      ]
     },
     "metadata": {},
     "execution_count": 30
    }
   ],
   "source": [
    "regressor.fit(X_train_scaled, y_train_scaled)"
   ]
  },
  {
   "cell_type": "code",
   "execution_count": 31,
   "metadata": {},
   "outputs": [],
   "source": [
    "\n",
    "SVR_predictions = sc_Y.inverse_transform(regressor.predict(sc_X.transform(X_test)))\n",
    "SVR_evaluation = MAE(SVR_predictions, y_test)"
   ]
  },
  {
   "cell_type": "code",
   "execution_count": 32,
   "metadata": {},
   "outputs": [
    {
     "output_type": "execute_result",
     "data": {
      "text/plain": [
       "2.1791734276872736"
      ]
     },
     "metadata": {},
     "execution_count": 32
    }
   ],
   "source": [
    "SVR_evaluation"
   ]
  },
  {
   "cell_type": "code",
   "execution_count": 34,
   "metadata": {},
   "outputs": [],
   "source": [
    "# load in the best model\n",
    "path =os.getcwd()\n",
    "model_filename = os.path.join(path, \"morebikes2020/Models/Models/model_station_120_rlm_short_full_temp.csv\")\n",
    "model_df = pd.read_csv(model_filename, index_col=\"feature\")\n",
    "\n"
   ]
  },
  {
   "cell_type": "code",
   "execution_count": 35,
   "metadata": {},
   "outputs": [],
   "source": [
    "# Get model features and intercept\n",
    "model_index = model_df.index.values.tolist() \n",
    "intercept_val = model_df[\"weight\"][model_index[0]]\n",
    "model_features = model_index[1:]\n"
   ]
  },
  {
   "cell_type": "code",
   "execution_count": 36,
   "metadata": {},
   "outputs": [
    {
     "output_type": "execute_result",
     "data": {
      "text/plain": [
       "                               weight\n",
       "feature                              \n",
       "(Intercept)                  0.181554\n",
       "bikes_3h_ago                 0.734935\n",
       "short_profile_bikes          0.146213\n",
       "short_profile_3h_diff_bikes  0.398824\n",
       "full_profile_bikes           0.107466\n",
       "full_profile_3h_diff_bikes   0.184109\n",
       "temperature.C               -0.006385"
      ],
      "text/html": "<div>\n<style scoped>\n    .dataframe tbody tr th:only-of-type {\n        vertical-align: middle;\n    }\n\n    .dataframe tbody tr th {\n        vertical-align: top;\n    }\n\n    .dataframe thead th {\n        text-align: right;\n    }\n</style>\n<table border=\"1\" class=\"dataframe\">\n  <thead>\n    <tr style=\"text-align: right;\">\n      <th></th>\n      <th>weight</th>\n    </tr>\n    <tr>\n      <th>feature</th>\n      <th></th>\n    </tr>\n  </thead>\n  <tbody>\n    <tr>\n      <th>(Intercept)</th>\n      <td>0.181554</td>\n    </tr>\n    <tr>\n      <th>bikes_3h_ago</th>\n      <td>0.734935</td>\n    </tr>\n    <tr>\n      <th>short_profile_bikes</th>\n      <td>0.146213</td>\n    </tr>\n    <tr>\n      <th>short_profile_3h_diff_bikes</th>\n      <td>0.398824</td>\n    </tr>\n    <tr>\n      <th>full_profile_bikes</th>\n      <td>0.107466</td>\n    </tr>\n    <tr>\n      <th>full_profile_3h_diff_bikes</th>\n      <td>0.184109</td>\n    </tr>\n    <tr>\n      <th>temperature.C</th>\n      <td>-0.006385</td>\n    </tr>\n  </tbody>\n</table>\n</div>"
     },
     "metadata": {},
     "execution_count": 36
    }
   ],
   "source": [
    "model_df"
   ]
  },
  {
   "cell_type": "code",
   "execution_count": 38,
   "metadata": {},
   "outputs": [
    {
     "output_type": "execute_result",
     "data": {
      "text/plain": [
       "['bikes_3h_ago',\n",
       " 'short_profile_bikes',\n",
       " 'short_profile_3h_diff_bikes',\n",
       " 'full_profile_bikes',\n",
       " 'full_profile_3h_diff_bikes',\n",
       " 'temperature.C']"
      ]
     },
     "metadata": {},
     "execution_count": 38
    }
   ],
   "source": [
    "model_features"
   ]
  },
  {
   "cell_type": "code",
   "execution_count": null,
   "metadata": {},
   "outputs": [],
   "source": [
    "\n",
    "# Plug into equation\n",
    "preds = (sum(model_df[\"weight\"][feature]*data_df[feature] for feature in model_features)) + intercept_val\n",
    "data_df['rlm_output'] = preds"
   ]
  },
  {
   "cell_type": "code",
   "execution_count": null,
   "metadata": {},
   "outputs": [],
   "source": [
    "# Plug into equation\n",
    "preds = (sum(model_df[\"weight\"][feature]*data_df[feature] for feature in model_features)) + intercept_val\n",
    "data_df['rlm_output'] = preds"
   ]
  }
 ]
}